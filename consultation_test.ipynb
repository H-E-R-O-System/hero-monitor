{
 "cells": [
  {
   "cell_type": "code",
   "execution_count": 4,
   "id": "initial_id",
   "metadata": {
    "collapsed": true,
    "ExecuteTime": {
     "end_time": "2023-11-06T09:50:29.940424Z",
     "start_time": "2023-11-06T09:50:08.346190Z"
    }
   },
   "outputs": [
    {
     "name": "stdout",
     "output_type": "stream",
     "text": [
      "Collecting git+https://github.com/huggingface/transformers.git\r\n",
      "  Cloning https://github.com/huggingface/transformers.git to /private/var/folders/l3/n08s73p16nbbr5s9thh0203w0000gn/T/pip-req-build-6w4yuux5\r\n",
      "  Running command git clone --filter=blob:none --quiet https://github.com/huggingface/transformers.git /private/var/folders/l3/n08s73p16nbbr5s9thh0203w0000gn/T/pip-req-build-6w4yuux5\r\n",
      "  Resolved https://github.com/huggingface/transformers.git to commit b026b5ca6dd178f50d91778f58d32d85d3a83c5f\r\n",
      "  Installing build dependencies ... \u001B[?25ldone\r\n",
      "\u001B[?25h  Getting requirements to build wheel ... \u001B[?25ldone\r\n",
      "\u001B[?25h  Preparing metadata (pyproject.toml) ... \u001B[?25ldone\r\n",
      "\u001B[?25hRequirement already satisfied: sentencepiece in ./venv/lib/python3.10/site-packages (0.1.99)\r\n",
      "Requirement already satisfied: huggingface-hub<1.0,>=0.16.4 in ./venv/lib/python3.10/site-packages (from transformers==4.36.0.dev0) (0.17.3)\r\n",
      "Requirement already satisfied: packaging>=20.0 in ./venv/lib/python3.10/site-packages (from transformers==4.36.0.dev0) (23.2)\r\n",
      "Requirement already satisfied: pyyaml>=5.1 in ./venv/lib/python3.10/site-packages (from transformers==4.36.0.dev0) (6.0.1)\r\n",
      "Requirement already satisfied: safetensors>=0.3.1 in ./venv/lib/python3.10/site-packages (from transformers==4.36.0.dev0) (0.4.0)\r\n",
      "Requirement already satisfied: tqdm>=4.27 in ./venv/lib/python3.10/site-packages (from transformers==4.36.0.dev0) (4.66.1)\r\n",
      "Requirement already satisfied: filelock in ./venv/lib/python3.10/site-packages (from transformers==4.36.0.dev0) (3.13.1)\r\n",
      "Requirement already satisfied: tokenizers<0.15,>=0.14 in ./venv/lib/python3.10/site-packages (from transformers==4.36.0.dev0) (0.14.1)\r\n",
      "Requirement already satisfied: numpy>=1.17 in ./venv/lib/python3.10/site-packages (from transformers==4.36.0.dev0) (1.26.1)\r\n",
      "Requirement already satisfied: requests in ./venv/lib/python3.10/site-packages (from transformers==4.36.0.dev0) (2.31.0)\r\n",
      "Requirement already satisfied: regex!=2019.12.17 in ./venv/lib/python3.10/site-packages (from transformers==4.36.0.dev0) (2023.10.3)\r\n",
      "Requirement already satisfied: typing-extensions>=3.7.4.3 in ./venv/lib/python3.10/site-packages (from huggingface-hub<1.0,>=0.16.4->transformers==4.36.0.dev0) (4.8.0)\r\n",
      "Requirement already satisfied: fsspec in ./venv/lib/python3.10/site-packages (from huggingface-hub<1.0,>=0.16.4->transformers==4.36.0.dev0) (2023.10.0)\r\n",
      "Requirement already satisfied: certifi>=2017.4.17 in ./venv/lib/python3.10/site-packages (from requests->transformers==4.36.0.dev0) (2023.7.22)\r\n",
      "Requirement already satisfied: urllib3<3,>=1.21.1 in ./venv/lib/python3.10/site-packages (from requests->transformers==4.36.0.dev0) (2.0.7)\r\n",
      "Requirement already satisfied: charset-normalizer<4,>=2 in ./venv/lib/python3.10/site-packages (from requests->transformers==4.36.0.dev0) (3.3.2)\r\n",
      "Requirement already satisfied: idna<4,>=2.5 in ./venv/lib/python3.10/site-packages (from requests->transformers==4.36.0.dev0) (3.4)\r\n",
      "\r\n",
      "\u001B[1m[\u001B[0m\u001B[34;49mnotice\u001B[0m\u001B[1;39;49m]\u001B[0m\u001B[39;49m A new release of pip available: \u001B[0m\u001B[31;49m22.3.1\u001B[0m\u001B[39;49m -> \u001B[0m\u001B[32;49m23.3.1\u001B[0m\r\n",
      "\u001B[1m[\u001B[0m\u001B[34;49mnotice\u001B[0m\u001B[1;39;49m]\u001B[0m\u001B[39;49m To update, run: \u001B[0m\u001B[32;49mpip install --upgrade pip\u001B[0m\r\n"
     ]
    }
   ],
   "source": [
    "# !pip install git+https://github.com/huggingface/transformers.git sentencepiece"
   ]
  },
  {
   "cell_type": "code",
   "execution_count": 5,
   "outputs": [
    {
     "name": "stderr",
     "output_type": "stream",
     "text": [
      "Special tokens have been added in the vocabulary, make sure the associated word embeddings are fine-tuned or trained.\n",
      "Special tokens have been added in the vocabulary, make sure the associated word embeddings are fine-tuned or trained.\n"
     ]
    }
   ],
   "source": [
    "from transformers import AutoProcessor, SeamlessM4TModel\n",
    "\n",
    "processor = AutoProcessor.from_pretrained(\"facebook/hf-seamless-m4t-medium\")\n",
    "model = SeamlessM4TModel.from_pretrained(\"facebook/hf-seamless-m4t-medium\")\n",
    "\n",
    "# from audio\n",
    "# audio = ... # must be a 16 kHz waveform array (list or numpy array)\n",
    "# audio_inputs = processor(audios=audio, return_tensors=\"pt\")\n",
    "# audio_array_from_audio = model.generate(**audio_inputs, tgt_lang=\"rus\")[0].cpu().numpy().squeeze()\n",
    "\n",
    "# from text\n",
    "text_inputs = processor(text = \"Hello, my dog is cute\", src_lang=\"eng\", return_tensors=\"pt\")\n",
    "audio_array_from_text = model.generate(**text_inputs, tgt_lang=\"rus\")[0].cpu().numpy().squeeze()"
   ],
   "metadata": {
    "collapsed": false,
    "ExecuteTime": {
     "end_time": "2023-11-06T09:50:45.633248Z",
     "start_time": "2023-11-06T09:50:29.942606Z"
    }
   },
   "id": "1dcd4a14325dd151"
  },
  {
   "cell_type": "code",
   "execution_count": 11,
   "outputs": [
    {
     "name": "stdout",
     "output_type": "stream",
     "text": [
      "[ 4.4524968e-05  3.4109669e-06  9.7228083e-05 ... -3.4251250e-05\n",
      " -5.0565344e-05 -2.8509166e-05]\n"
     ]
    }
   ],
   "source": [
    "from scipy.io.wavfile import write\n",
    "import numpy as np \n",
    "import torchaudio\n",
    "\n",
    "print(audio_array_from_text)\n",
    "\n",
    "write(\"example.wav\", 16000, audio_array_from_text)"
   ],
   "metadata": {
    "collapsed": false,
    "ExecuteTime": {
     "end_time": "2023-11-06T09:54:28.970595Z",
     "start_time": "2023-11-06T09:54:28.824518Z"
    }
   },
   "id": "c6e333a7124b4645"
  },
  {
   "cell_type": "code",
   "execution_count": 7,
   "outputs": [
    {
     "data": {
      "text/plain": "\"Wie geht's Ihnen heute?\""
     },
     "execution_count": 7,
     "metadata": {},
     "output_type": "execute_result"
    }
   ],
   "source": [
    "text_inputs = processor(text = \"How are you today?\", src_lang=\"eng\", return_tensors=\"pt\")\n",
    "output_tokens = model.generate(**text_inputs, tgt_lang=\"deu\", generate_speech=False)\n",
    "processor.decode(output_tokens[0].tolist()[0], skip_special_tokens=True)"
   ],
   "metadata": {
    "collapsed": false,
    "ExecuteTime": {
     "end_time": "2023-11-06T09:50:46.023006Z",
     "start_time": "2023-11-06T09:50:45.662050Z"
    }
   },
   "id": "2e94936a46d0a7af"
  },
  {
   "cell_type": "code",
   "execution_count": 10,
   "outputs": [
    {
     "ename": "RuntimeError",
     "evalue": "Couldn't find appropriate backend to handle uri result.wav and format None.",
     "output_type": "error",
     "traceback": [
      "\u001B[0;31m---------------------------------------------------------------------------\u001B[0m",
      "\u001B[0;31mRuntimeError\u001B[0m                              Traceback (most recent call last)",
      "Cell \u001B[0;32mIn[10], line 1\u001B[0m\n\u001B[0;32m----> 1\u001B[0m \u001B[43mtorchaudio\u001B[49m\u001B[38;5;241;43m.\u001B[39;49m\u001B[43msave\u001B[49m\u001B[43m(\u001B[49m\u001B[38;5;124;43m\"\u001B[39;49m\u001B[38;5;124;43mresult.wav\u001B[39;49m\u001B[38;5;124;43m\"\u001B[39;49m\u001B[43m,\u001B[49m\u001B[43m \u001B[49m\u001B[43maudio_array_from_text\u001B[49m\u001B[43m,\u001B[49m\u001B[43m \u001B[49m\u001B[43msample_rate\u001B[49m\u001B[38;5;241;43m=\u001B[39;49m\u001B[38;5;241;43m16000\u001B[39;49m\u001B[43m)\u001B[49m \n",
      "File \u001B[0;32m~/Documents/Pycharm/HERO/venv/lib/python3.10/site-packages/torchaudio/_backend/utils.py:287\u001B[0m, in \u001B[0;36mget_save_func.<locals>.save\u001B[0;34m(uri, src, sample_rate, channels_first, format, encoding, bits_per_sample, buffer_size, backend)\u001B[0m\n\u001B[1;32m    222\u001B[0m \u001B[38;5;28;01mdef\u001B[39;00m \u001B[38;5;21msave\u001B[39m(\n\u001B[1;32m    223\u001B[0m     uri: Union[BinaryIO, \u001B[38;5;28mstr\u001B[39m, os\u001B[38;5;241m.\u001B[39mPathLike],\n\u001B[1;32m    224\u001B[0m     src: torch\u001B[38;5;241m.\u001B[39mTensor,\n\u001B[0;32m   (...)\u001B[0m\n\u001B[1;32m    231\u001B[0m     backend: Optional[\u001B[38;5;28mstr\u001B[39m] \u001B[38;5;241m=\u001B[39m \u001B[38;5;28;01mNone\u001B[39;00m,\n\u001B[1;32m    232\u001B[0m ):\n\u001B[1;32m    233\u001B[0m \u001B[38;5;250m    \u001B[39m\u001B[38;5;124;03m\"\"\"Save audio data to file.\u001B[39;00m\n\u001B[1;32m    234\u001B[0m \n\u001B[1;32m    235\u001B[0m \u001B[38;5;124;03m    Note:\u001B[39;00m\n\u001B[0;32m   (...)\u001B[0m\n\u001B[1;32m    285\u001B[0m \u001B[38;5;124;03m               :ref:`backend`\u001B[39;00m\n\u001B[1;32m    286\u001B[0m \u001B[38;5;124;03m    \"\"\"\u001B[39;00m\n\u001B[0;32m--> 287\u001B[0m     backend \u001B[38;5;241m=\u001B[39m \u001B[43mdispatcher\u001B[49m\u001B[43m(\u001B[49m\u001B[43muri\u001B[49m\u001B[43m,\u001B[49m\u001B[43m \u001B[49m\u001B[38;5;28;43mformat\u001B[39;49m\u001B[43m,\u001B[49m\u001B[43m \u001B[49m\u001B[43mbackend\u001B[49m\u001B[43m)\u001B[49m\n\u001B[1;32m    288\u001B[0m     \u001B[38;5;28;01mreturn\u001B[39;00m backend\u001B[38;5;241m.\u001B[39msave(uri, src, sample_rate, channels_first, \u001B[38;5;28mformat\u001B[39m, encoding, bits_per_sample, buffer_size)\n",
      "File \u001B[0;32m~/Documents/Pycharm/HERO/venv/lib/python3.10/site-packages/torchaudio/_backend/utils.py:220\u001B[0m, in \u001B[0;36mget_save_func.<locals>.dispatcher\u001B[0;34m(uri, format, backend_name)\u001B[0m\n\u001B[1;32m    218\u001B[0m     \u001B[38;5;28;01mif\u001B[39;00m backend\u001B[38;5;241m.\u001B[39mcan_encode(uri, \u001B[38;5;28mformat\u001B[39m):\n\u001B[1;32m    219\u001B[0m         \u001B[38;5;28;01mreturn\u001B[39;00m backend\n\u001B[0;32m--> 220\u001B[0m \u001B[38;5;28;01mraise\u001B[39;00m \u001B[38;5;167;01mRuntimeError\u001B[39;00m(\u001B[38;5;124mf\u001B[39m\u001B[38;5;124m\"\u001B[39m\u001B[38;5;124mCouldn\u001B[39m\u001B[38;5;124m'\u001B[39m\u001B[38;5;124mt find appropriate backend to handle uri \u001B[39m\u001B[38;5;132;01m{\u001B[39;00muri\u001B[38;5;132;01m}\u001B[39;00m\u001B[38;5;124m and format \u001B[39m\u001B[38;5;132;01m{\u001B[39;00m\u001B[38;5;28mformat\u001B[39m\u001B[38;5;132;01m}\u001B[39;00m\u001B[38;5;124m.\u001B[39m\u001B[38;5;124m\"\u001B[39m)\n",
      "\u001B[0;31mRuntimeError\u001B[0m: Couldn't find appropriate backend to handle uri result.wav and format None."
     ]
    }
   ],
   "source": [
    "torchaudio.save(\"result.wav\", audio_array_from_text, sample_rate=16000) "
   ],
   "metadata": {
    "collapsed": false,
    "ExecuteTime": {
     "end_time": "2023-11-06T09:51:40.582594Z",
     "start_time": "2023-11-06T09:51:40.564793Z"
    }
   },
   "id": "4333e20494335122"
  },
  {
   "cell_type": "code",
   "execution_count": null,
   "outputs": [],
   "source": [],
   "metadata": {
    "collapsed": false,
    "ExecuteTime": {
     "end_time": "2023-11-06T09:50:46.039911Z",
     "start_time": "2023-11-06T09:50:46.038584Z"
    }
   },
   "id": "c25469991756c4ea"
  }
 ],
 "metadata": {
  "kernelspec": {
   "display_name": "Python 3",
   "language": "python",
   "name": "python3"
  },
  "language_info": {
   "codemirror_mode": {
    "name": "ipython",
    "version": 2
   },
   "file_extension": ".py",
   "mimetype": "text/x-python",
   "name": "python",
   "nbconvert_exporter": "python",
   "pygments_lexer": "ipython2",
   "version": "2.7.6"
  }
 },
 "nbformat": 4,
 "nbformat_minor": 5
}
