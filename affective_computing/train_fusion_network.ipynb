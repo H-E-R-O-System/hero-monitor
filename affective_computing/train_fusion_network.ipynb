{
 "cells": [
  {
   "cell_type": "code",
   "execution_count": 2,
   "id": "initial_id",
   "metadata": {
    "collapsed": true,
    "ExecuteTime": {
     "end_time": "2024-03-05T09:12:48.025230Z",
     "start_time": "2024-03-05T09:12:44.971519Z"
    }
   },
   "outputs": [],
   "source": [
    "import pandas as pd\n",
    "import numpy as np\n",
    "\n",
    "# Make numpy values easier to read.\n",
    "np.set_printoptions(precision=3, suppress=True)\n",
    "\n",
    "import tensorflow as tf\n",
    "import keras\n",
    "from keras import layers\n",
    "from sklearn.preprocessing import StandardScaler\n",
    "from sklearn.decomposition import PCA"
   ]
  },
  {
   "cell_type": "code",
   "execution_count": 3,
   "outputs": [],
   "source": [
    "train_feature_df = pd.read_csv(\"training_data/fuse_data_train_set.csv\")\n",
    "val_feature_df = pd.read_csv(\"training_data/fuse_data_val_set.csv\")"
   ],
   "metadata": {
    "collapsed": false,
    "ExecuteTime": {
     "end_time": "2024-03-05T09:12:52.152831Z",
     "start_time": "2024-03-05T09:12:49.258626Z"
    }
   },
   "id": "261b8ef9529fde1c"
  },
  {
   "cell_type": "code",
   "execution_count": 5,
   "outputs": [
    {
     "name": "stdout",
     "output_type": "stream",
     "text": [
      "301\n",
      "301\n"
     ]
    }
   ],
   "source": [
    "train_features = train_feature_df.copy()\n",
    "\n",
    "train_labels = train_features.pop('class')\n",
    "\n",
    "val_features = val_feature_df.copy()\n",
    "val_labels = val_features.pop('class')\n",
    "\n",
    "print(train_features.shape[1])\n",
    "print(val_features.shape[1])"
   ],
   "metadata": {
    "collapsed": false,
    "ExecuteTime": {
     "end_time": "2024-03-05T09:13:43.176595Z",
     "start_time": "2024-03-05T09:13:43.107734Z"
    }
   },
   "id": "b96ecdbb54d377a0"
  },
  {
   "cell_type": "code",
   "execution_count": 15,
   "outputs": [
    {
     "name": "stdout",
     "output_type": "stream",
     "text": [
      "(228830, 301)\n"
     ]
    }
   ],
   "source": [
    "subsets = [\"blend\", \"shape\", \"col\", \"embedding\"]\n",
    "col_names = pd.Series([])\n",
    "\n",
    "for subset in subsets:\n",
    "    col_names = pd.concat([col_names, pd.Series(train_features.columns[pd.Series(train_features.columns).str.startswith(subset)])])\n",
    "\n",
    "train_features_subset = train_features[col_names]\n",
    "val_features_subset = val_features[col_names]\n",
    "print(train_features_subset.shape)"
   ],
   "metadata": {
    "collapsed": false,
    "ExecuteTime": {
     "end_time": "2024-03-03T21:04:11.294876Z",
     "start_time": "2024-03-03T21:04:11.206197Z"
    }
   },
   "id": "49aeda6410ee415d"
  },
  {
   "cell_type": "code",
   "execution_count": 7,
   "outputs": [],
   "source": [
    "x_train = train_features_subset.values\n",
    "x_train = StandardScaler().fit_transform(x_train) # normalizing the features\n",
    "x_val = val_features_subset.values\n",
    "x_val = StandardScaler().fit_transform(x_val) # normalizing the features\n",
    "\n",
    "train_features_norm = pd.DataFrame(x_train,columns=train_features_subset.columns)\n",
    "val_features_norm = pd.DataFrame(x_val,columns=val_features_subset.columns)"
   ],
   "metadata": {
    "collapsed": false,
    "ExecuteTime": {
     "end_time": "2024-03-03T20:58:06.134565Z",
     "start_time": "2024-03-03T20:58:05.840717Z"
    }
   },
   "id": "c406ee6b7a5e1524"
  },
  {
   "cell_type": "code",
   "execution_count": 8,
   "outputs": [],
   "source": [
    "component_count = min(100, len(train_features_subset.columns))\n",
    "pca_features = PCA(n_components=component_count)\n",
    "principal_components_train = pca_features.fit_transform(x_train)\n",
    "principal_components_val = pca_features.fit_transform(x_val)"
   ],
   "metadata": {
    "collapsed": false,
    "ExecuteTime": {
     "end_time": "2024-03-03T20:58:23.471806Z",
     "start_time": "2024-03-03T20:58:06.135665Z"
    }
   },
   "id": "83e7c51484c7d4d7"
  },
  {
   "cell_type": "code",
   "execution_count": 9,
   "outputs": [
    {
     "name": "stdout",
     "output_type": "stream",
     "text": [
      "Explained variation per principal component: [0.127 0.094 0.085 0.059 0.053 0.044 0.038 0.031 0.027 0.024 0.022 0.02\n",
      " 0.019 0.017 0.016 0.016 0.014 0.014 0.013 0.013 0.011 0.011 0.01  0.01\n",
      " 0.01  0.009 0.009 0.009 0.009 0.009 0.008 0.008 0.008 0.007 0.007 0.007\n",
      " 0.006 0.006 0.006 0.006 0.005 0.005 0.005 0.005 0.004 0.004 0.004 0.004\n",
      " 0.004 0.003 0.003 0.003 0.003 0.002 0.002 0.002 0.002 0.002 0.002 0.002\n",
      " 0.002 0.002 0.001 0.001 0.001 0.001 0.001 0.001 0.001 0.001 0.001 0.001\n",
      " 0.001 0.001 0.001 0.001 0.001 0.    0.    0.    0.    0.    0.    0.\n",
      " 0.    0.    0.    0.    0.    0.    0.    0.    0.    0.    0.    0.\n",
      " 0.    0.    0.    0.   ]\n"
     ]
    }
   ],
   "source": [
    "print('Explained variation per principal component: {}'.format(pca_features.explained_variance_ratio_))\n",
    "np.sum(pca_features.explained_variance_ratio_)\n",
    "\n",
    "principal_components_train = pd.DataFrame(data = principal_components_train, columns=[f\"pca_{idx}\" for idx in range(component_count)])\n",
    "principal_components_val = pd.DataFrame(data = principal_components_val, columns=[f\"pca_{idx}\" for idx in range(component_count)])"
   ],
   "metadata": {
    "collapsed": false,
    "ExecuteTime": {
     "end_time": "2024-03-03T20:58:23.486308Z",
     "start_time": "2024-03-03T20:58:23.471974Z"
    }
   },
   "id": "fe62c26db7f5a827"
  },
  {
   "cell_type": "code",
   "execution_count": 10,
   "outputs": [
    {
     "name": "stdout",
     "output_type": "stream",
     "text": [
      "(228830, 100) (1495, 100)\n"
     ]
    }
   ],
   "source": [
    "print(principal_components_train.shape, principal_components_val.shape)"
   ],
   "metadata": {
    "collapsed": false,
    "ExecuteTime": {
     "end_time": "2024-03-03T20:58:23.559157Z",
     "start_time": "2024-03-03T20:58:23.486617Z"
    }
   },
   "id": "c7ce26a0a8560175"
  },
  {
   "cell_type": "code",
   "execution_count": 11,
   "outputs": [],
   "source": [
    "normalizer = keras.layers.Normalization(axis=-1)\n",
    "normalizer.adapt(principal_components_train.values)\n",
    "encoding = keras.layers.CategoryEncoding(num_tokens=3, output_mode=\"one_hot\")\n",
    "\n",
    "def construct_model(learning_rate=0.005):\n",
    "    model = keras.Sequential([\n",
    "        keras.layers.GaussianNoise(0.01),\n",
    "        layers.Dense(128, activation=\"relu\"),\n",
    "        layers.Dense(200, activation=\"relu\"),\n",
    "        layers.Dense(128, activation=\"relu\"), \n",
    "        layers.Dropout(0.2, name=\"dropout_regularisation\"), # Regularize with dropout\n",
    "        layers.Dense(3, activation=\"relu\"),\n",
    "    ])\n",
    "\n",
    "  # preprocessed_inputs = preprocessing_head(inputs)\n",
    "  # result = body\n",
    "\n",
    "    model.compile(\n",
    "      optimizer=keras.optimizers.Adam(learning_rate=learning_rate),\n",
    "      loss=keras.losses.BinaryCrossentropy(from_logits=True),\n",
    "      metrics=[keras.metrics.CategoricalAccuracy()],\n",
    "    )\n",
    "    return model"
   ],
   "metadata": {
    "collapsed": false,
    "ExecuteTime": {
     "end_time": "2024-03-03T20:58:23.624848Z",
     "start_time": "2024-03-03T20:58:23.511651Z"
    }
   },
   "id": "e6ecca4cb4e96290"
  },
  {
   "cell_type": "code",
   "execution_count": 12,
   "outputs": [],
   "source": [
    "base_epochs = 10\n",
    "train_labels_1ht = encoding(train_labels)\n",
    "val_labels_1ht = encoding(val_labels)"
   ],
   "metadata": {
    "collapsed": false,
    "ExecuteTime": {
     "end_time": "2024-03-03T20:58:23.638280Z",
     "start_time": "2024-03-03T20:58:23.625033Z"
    }
   },
   "id": "9f78075dfc8097be"
  },
  {
   "cell_type": "code",
   "execution_count": 14,
   "outputs": [
    {
     "name": "stdout",
     "output_type": "stream",
     "text": [
      "Epoch 1/20\n",
      "\u001B[1m7151/7151\u001B[0m \u001B[32m━━━━━━━━━━━━━━━━━━━━\u001B[0m\u001B[37m\u001B[0m \u001B[1m6s\u001B[0m 760us/step - categorical_accuracy: 0.5241 - loss: 0.6773 - val_categorical_accuracy: 0.2147 - val_loss: 0.7803\n",
      "Epoch 2/20\n",
      "\u001B[1m7151/7151\u001B[0m \u001B[32m━━━━━━━━━━━━━━━━━━━━\u001B[0m\u001B[37m\u001B[0m \u001B[1m5s\u001B[0m 747us/step - categorical_accuracy: 0.6251 - loss: 0.6549 - val_categorical_accuracy: 0.2067 - val_loss: 0.8191\n",
      "Epoch 3/20\n",
      "\u001B[1m7151/7151\u001B[0m \u001B[32m━━━━━━━━━━━━━━━━━━━━\u001B[0m\u001B[37m\u001B[0m \u001B[1m5s\u001B[0m 760us/step - categorical_accuracy: 0.6447 - loss: 0.6477 - val_categorical_accuracy: 0.2181 - val_loss: 0.8178\n",
      "Epoch 4/20\n",
      "\u001B[1m7151/7151\u001B[0m \u001B[32m━━━━━━━━━━━━━━━━━━━━\u001B[0m\u001B[37m\u001B[0m \u001B[1m8s\u001B[0m 1ms/step - categorical_accuracy: 0.6519 - loss: 0.6452 - val_categorical_accuracy: 0.2120 - val_loss: 0.8347\n",
      "Epoch 5/20\n",
      "\u001B[1m7151/7151\u001B[0m \u001B[32m━━━━━━━━━━━━━━━━━━━━\u001B[0m\u001B[37m\u001B[0m \u001B[1m8s\u001B[0m 1ms/step - categorical_accuracy: 0.6584 - loss: 0.6434 - val_categorical_accuracy: 0.2100 - val_loss: 0.8361\n",
      "Epoch 6/20\n",
      "\u001B[1m7151/7151\u001B[0m \u001B[32m━━━━━━━━━━━━━━━━━━━━\u001B[0m\u001B[37m\u001B[0m \u001B[1m8s\u001B[0m 1ms/step - categorical_accuracy: 0.6634 - loss: 0.6416 - val_categorical_accuracy: 0.2067 - val_loss: 0.8411\n",
      "Epoch 7/20\n",
      "\u001B[1m7151/7151\u001B[0m \u001B[32m━━━━━━━━━━━━━━━━━━━━\u001B[0m\u001B[37m\u001B[0m \u001B[1m8s\u001B[0m 1ms/step - categorical_accuracy: 0.6669 - loss: 0.6404 - val_categorical_accuracy: 0.2080 - val_loss: 0.8476\n",
      "Epoch 8/20\n",
      "\u001B[1m7151/7151\u001B[0m \u001B[32m━━━━━━━━━━━━━━━━━━━━\u001B[0m\u001B[37m\u001B[0m \u001B[1m8s\u001B[0m 1ms/step - categorical_accuracy: 0.6685 - loss: 0.6396 - val_categorical_accuracy: 0.2114 - val_loss: 0.8486\n",
      "Epoch 9/20\n",
      "\u001B[1m7151/7151\u001B[0m \u001B[32m━━━━━━━━━━━━━━━━━━━━\u001B[0m\u001B[37m\u001B[0m \u001B[1m8s\u001B[0m 1ms/step - categorical_accuracy: 0.6724 - loss: 0.6387 - val_categorical_accuracy: 0.2074 - val_loss: 0.8564\n",
      "Epoch 10/20\n",
      "\u001B[1m7151/7151\u001B[0m \u001B[32m━━━━━━━━━━━━━━━━━━━━\u001B[0m\u001B[37m\u001B[0m \u001B[1m8s\u001B[0m 1ms/step - categorical_accuracy: 0.6747 - loss: 0.6378 - val_categorical_accuracy: 0.2140 - val_loss: 0.8517\n",
      "Epoch 11/20\n",
      "\u001B[1m7151/7151\u001B[0m \u001B[32m━━━━━━━━━━━━━━━━━━━━\u001B[0m\u001B[37m\u001B[0m \u001B[1m8s\u001B[0m 1ms/step - categorical_accuracy: 0.6764 - loss: 0.6372 - val_categorical_accuracy: 0.2087 - val_loss: 0.8635\n",
      "Epoch 12/20\n",
      "\u001B[1m7151/7151\u001B[0m \u001B[32m━━━━━━━━━━━━━━━━━━━━\u001B[0m\u001B[37m\u001B[0m \u001B[1m8s\u001B[0m 1ms/step - categorical_accuracy: 0.6815 - loss: 0.6357 - val_categorical_accuracy: 0.2074 - val_loss: 0.8671\n",
      "Epoch 13/20\n",
      "\u001B[1m7151/7151\u001B[0m \u001B[32m━━━━━━━━━━━━━━━━━━━━\u001B[0m\u001B[37m\u001B[0m \u001B[1m8s\u001B[0m 1ms/step - categorical_accuracy: 0.6836 - loss: 0.6346 - val_categorical_accuracy: 0.2067 - val_loss: 0.8739\n",
      "Epoch 14/20\n",
      "\u001B[1m7151/7151\u001B[0m \u001B[32m━━━━━━━━━━━━━━━━━━━━\u001B[0m\u001B[37m\u001B[0m \u001B[1m8s\u001B[0m 1ms/step - categorical_accuracy: 0.6885 - loss: 0.6341 - val_categorical_accuracy: 0.2047 - val_loss: 0.8763\n",
      "Epoch 15/20\n",
      "\u001B[1m7151/7151\u001B[0m \u001B[32m━━━━━━━━━━━━━━━━━━━━\u001B[0m\u001B[37m\u001B[0m \u001B[1m8s\u001B[0m 1ms/step - categorical_accuracy: 0.6930 - loss: 0.6335 - val_categorical_accuracy: 0.2060 - val_loss: 0.8824\n",
      "Epoch 16/20\n",
      "\u001B[1m7151/7151\u001B[0m \u001B[32m━━━━━━━━━━━━━━━━━━━━\u001B[0m\u001B[37m\u001B[0m \u001B[1m8s\u001B[0m 1ms/step - categorical_accuracy: 0.6964 - loss: 0.6319 - val_categorical_accuracy: 0.2047 - val_loss: 0.8802\n",
      "Epoch 17/20\n",
      "\u001B[1m7151/7151\u001B[0m \u001B[32m━━━━━━━━━━━━━━━━━━━━\u001B[0m\u001B[37m\u001B[0m \u001B[1m8s\u001B[0m 1ms/step - categorical_accuracy: 0.6981 - loss: 0.6313 - val_categorical_accuracy: 0.2067 - val_loss: 0.8780\n",
      "Epoch 18/20\n",
      "\u001B[1m7151/7151\u001B[0m \u001B[32m━━━━━━━━━━━━━━━━━━━━\u001B[0m\u001B[37m\u001B[0m \u001B[1m8s\u001B[0m 1ms/step - categorical_accuracy: 0.6975 - loss: 0.6308 - val_categorical_accuracy: 0.2047 - val_loss: 0.8897\n",
      "Epoch 19/20\n",
      "\u001B[1m7151/7151\u001B[0m \u001B[32m━━━━━━━━━━━━━━━━━━━━\u001B[0m\u001B[37m\u001B[0m \u001B[1m8s\u001B[0m 1ms/step - categorical_accuracy: 0.7011 - loss: 0.6305 - val_categorical_accuracy: 0.2013 - val_loss: 0.8905\n",
      "Epoch 20/20\n",
      "\u001B[1m7151/7151\u001B[0m \u001B[32m━━━━━━━━━━━━━━━━━━━━\u001B[0m\u001B[37m\u001B[0m \u001B[1m8s\u001B[0m 1ms/step - categorical_accuracy: 0.7012 - loss: 0.6299 - val_categorical_accuracy: 0.2027 - val_loss: 0.8924\n"
     ]
    }
   ],
   "source": [
    "fusion_model = construct_model(learning_rate=1e-5)\n",
    "train_history = fusion_model.fit(x=principal_components_train, y=train_labels_1ht, epochs=20, validation_data=(principal_components_val, val_labels_1ht))"
   ],
   "metadata": {
    "collapsed": false,
    "ExecuteTime": {
     "end_time": "2024-03-03T21:01:57.289370Z",
     "start_time": "2024-03-03T20:59:25.844727Z"
    }
   },
   "id": "c3bf008dc892c2f1"
  },
  {
   "cell_type": "code",
   "execution_count": null,
   "outputs": [],
   "source": [
    "# fusion_model.save(\"data/FusionNetwork2.h5\")\n",
    "fusion_model.save_weights(\"data/FusionWeights.weights.h5\", overwrite=True)\n",
    "keras.saving.save_model(fusion_model, 'data/FusionNetwork2.keras')\n",
    "\n",
    "acc = train_history.history['categorical_accuracy']\n",
    "val_acc = train_history.history['val_categorical_accuracy']\n",
    "\n",
    "loss = train_history.history['loss']\n",
    "val_loss = train_history.history['val_loss']"
   ],
   "metadata": {
    "collapsed": false,
    "ExecuteTime": {
     "start_time": "2024-03-03T20:59:23.147968Z"
    }
   },
   "id": "cb53c05b9f97af86"
  },
  {
   "cell_type": "code",
   "execution_count": null,
   "outputs": [],
   "source": [
    "import matplotlib.pyplot as plt\n",
    "epochs_range = range(1, 11)\n",
    "\n",
    "plt.figure(figsize=(8, 8))\n",
    "plt.subplot(1, 2, 1)\n",
    "plt.plot(epochs_range, acc, label='Training Accuracy')\n",
    "plt.plot(epochs_range, val_acc, label='Validation Accuracy')\n",
    "plt.legend(loc='lower right')\n",
    "plt.title('Training and Validation Accuracy')\n",
    "\n",
    "plt.subplot(1, 2, 2)\n",
    "plt.plot(epochs_range, loss, label='Training Loss')\n",
    "plt.plot(epochs_range, val_loss, label='Validation Loss')\n",
    "plt.legend(loc='upper right')\n",
    "plt.title('Training and Validation Loss')\n",
    "plt.show()"
   ],
   "metadata": {
    "collapsed": false,
    "ExecuteTime": {
     "start_time": "2024-03-03T20:59:23.149263Z"
    }
   },
   "id": "ba6e8e8163fd8553"
  },
  {
   "cell_type": "code",
   "execution_count": null,
   "outputs": [],
   "source": [
    "# fusion_model_fine = keras.models.load_model('data/FusionNetwork.keras')\n",
    "fusion_model_fine = construct_model()\n",
    "fusion_model_fine.load_weights(\"data/FusionWeights.weights.h5\")\n"
   ],
   "metadata": {
    "collapsed": false,
    "ExecuteTime": {
     "start_time": "2024-03-03T20:59:23.150486Z"
    }
   },
   "id": "c4d20d675b5ebb52"
  },
  {
   "cell_type": "code",
   "execution_count": null,
   "outputs": [],
   "source": [
    "total_epochs = base_epochs\n",
    "\n",
    "for rate in [5e-6, 2e-6, 1e-6]:\n",
    "    total_epochs += 10\n",
    "    fusion_model_fine.compile(\n",
    "            optimizer=keras.optimizers.Adam(learning_rate=rate),\n",
    "            loss=keras.losses.BinaryCrossentropy(from_logits=True),\n",
    "            metrics=[keras.metrics.CategoricalAccuracy()],\n",
    "        )\n",
    "    train_history = fusion_model_fine.fit(x=train_features_dict, y=train_labels, validation_data=(val_features_dict, val_labels),\n",
    "                             epochs=total_epochs,\n",
    "                             initial_epoch=train_history.epoch[-1])\n",
    "    \n",
    "    acc += train_history.history['categorical_accuracy']\n",
    "    val_acc += train_history.history['val_categorical_accuracy']\n",
    "    \n",
    "    loss += train_history.history['loss']\n",
    "    val_loss += train_history.history['val_loss']"
   ],
   "metadata": {
    "collapsed": false,
    "ExecuteTime": {
     "start_time": "2024-03-03T20:59:23.151709Z"
    }
   },
   "id": "fa2c47c6fa682719"
  },
  {
   "cell_type": "code",
   "execution_count": null,
   "outputs": [],
   "source": [
    "for rate in [5e-7, 2e-7]:\n",
    "    total_epochs += 10\n",
    "    fusion_model_fine.compile(\n",
    "            optimizer=keras.optimizers.Adam(learning_rate=rate),\n",
    "            loss=keras.losses.BinaryCrossentropy(from_logits=True),\n",
    "            metrics=[keras.metrics.CategoricalAccuracy()],\n",
    "        )\n",
    "    train_history = fusion_model_fine.fit(x=train_features_dict, y=train_labels, validation_data=(val_features_dict, val_labels),\n",
    "                             epochs=total_epochs,\n",
    "                             initial_epoch=train_history.epoch[-1])\n",
    "    \n",
    "    acc += train_history.history['categorical_accuracy']\n",
    "    val_acc += train_history.history['val_categorical_accuracy']\n",
    "    \n",
    "    loss += train_history.history['loss']\n",
    "    val_loss += train_history.history['val_loss']"
   ],
   "metadata": {
    "collapsed": false,
    "ExecuteTime": {
     "start_time": "2024-03-03T20:59:23.152416Z"
    }
   },
   "id": "5c96690bf1f98ca4"
  },
  {
   "cell_type": "code",
   "execution_count": null,
   "outputs": [],
   "source": [],
   "metadata": {
    "collapsed": false,
    "ExecuteTime": {
     "start_time": "2024-03-03T20:59:23.153247Z"
    }
   },
   "id": "e7fb3357e2a49a93"
  }
 ],
 "metadata": {
  "kernelspec": {
   "display_name": "Python 3",
   "language": "python",
   "name": "python3"
  },
  "language_info": {
   "codemirror_mode": {
    "name": "ipython",
    "version": 2
   },
   "file_extension": ".py",
   "mimetype": "text/x-python",
   "name": "python",
   "nbconvert_exporter": "python",
   "pygments_lexer": "ipython2",
   "version": "2.7.6"
  }
 },
 "nbformat": 4,
 "nbformat_minor": 5
}
