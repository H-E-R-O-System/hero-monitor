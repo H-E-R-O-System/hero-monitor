{
 "cells": [
  {
   "cell_type": "code",
   "execution_count": 43,
   "id": "initial_id",
   "metadata": {
    "collapsed": true,
    "ExecuteTime": {
     "end_time": "2024-02-23T14:33:02.830418Z",
     "start_time": "2024-02-23T14:33:02.806418Z"
    }
   },
   "outputs": [],
   "source": [
    "import pandas as pd\n",
    "import numpy as np\n",
    "\n",
    "# Make numpy values easier to read.\n",
    "np.set_printoptions(precision=3, suppress=True)\n",
    "\n",
    "import tensorflow as tf\n",
    "import keras\n",
    "from keras import layers"
   ]
  },
  {
   "cell_type": "code",
   "execution_count": 44,
   "outputs": [],
   "source": [
    "train_feature_df = pd.read_csv(\"fuse_data_train.csv\")\n",
    "val_feature_df = pd.read_csv(\"fuse_data_val.csv\")"
   ],
   "metadata": {
    "collapsed": false,
    "ExecuteTime": {
     "end_time": "2024-02-23T14:33:05.655460Z",
     "start_time": "2024-02-23T14:33:02.810133Z"
    }
   },
   "id": "261b8ef9529fde1c"
  },
  {
   "cell_type": "code",
   "execution_count": 45,
   "outputs": [],
   "source": [
    "# net feature 0-199\n",
    "# shape 49\n",
    "# shape 52\n",
    "train_features = train_feature_df.copy()\n",
    "train_labels = train_features.pop('class')\n",
    "\n",
    "val_features = val_feature_df.copy()\n",
    "val_labels = val_features.pop('class')"
   ],
   "metadata": {
    "collapsed": false,
    "ExecuteTime": {
     "end_time": "2024-02-23T14:33:05.721266Z",
     "start_time": "2024-02-23T14:33:05.655931Z"
    }
   },
   "id": "b96ecdbb54d377a0"
  },
  {
   "cell_type": "code",
   "execution_count": 46,
   "outputs": [],
   "source": [
    "from sklearn.preprocessing import StandardScaler\n",
    "x_train = train_features.values\n",
    "x_train = StandardScaler().fit_transform(x_train) # normalizing the features\n",
    "x_val = val_features.values\n",
    "x_val = StandardScaler().fit_transform(x_val) # normalizing the features\n",
    "\n",
    "train_features_norm = pd.DataFrame(x_train,columns=train_features.columns)\n",
    "val_features_norm = pd.DataFrame(x_val,columns=val_features.columns)"
   ],
   "metadata": {
    "collapsed": false,
    "ExecuteTime": {
     "end_time": "2024-02-23T14:33:05.988448Z",
     "start_time": "2024-02-23T14:33:05.722751Z"
    }
   },
   "id": "c406ee6b7a5e1524"
  },
  {
   "cell_type": "code",
   "execution_count": 47,
   "outputs": [],
   "source": [
    "from sklearn.decomposition import PCA\n",
    "component_count = 200\n",
    "pca_features = PCA(n_components=component_count)\n",
    "principal_components_train = pca_features.fit_transform(x_train)\n",
    "principal_components_val = pca_features.fit_transform(x_val)"
   ],
   "metadata": {
    "collapsed": false,
    "ExecuteTime": {
     "end_time": "2024-02-23T14:33:22.334336Z",
     "start_time": "2024-02-23T14:33:05.990007Z"
    }
   },
   "id": "83e7c51484c7d4d7"
  },
  {
   "cell_type": "code",
   "execution_count": 48,
   "outputs": [
    {
     "name": "stdout",
     "output_type": "stream",
     "text": [
      "Explained variation per principal component: [0.118 0.087 0.079 0.054 0.05  0.041 0.037 0.029 0.026 0.025 0.023 0.022\n",
      " 0.019 0.018 0.016 0.015 0.014 0.013 0.013 0.012 0.012 0.011 0.01  0.01\n",
      " 0.01  0.009 0.009 0.009 0.008 0.008 0.008 0.008 0.008 0.008 0.008 0.007\n",
      " 0.007 0.007 0.007 0.006 0.006 0.006 0.006 0.005 0.005 0.005 0.005 0.004\n",
      " 0.004 0.004 0.004 0.004 0.004 0.003 0.003 0.003 0.003 0.003 0.002 0.002\n",
      " 0.002 0.002 0.002 0.002 0.002 0.002 0.002 0.002 0.002 0.001 0.001 0.001\n",
      " 0.001 0.001 0.001 0.001 0.001 0.001 0.001 0.001 0.001 0.001 0.001 0.001\n",
      " 0.001 0.001 0.    0.    0.    0.    0.    0.    0.    0.    0.    0.\n",
      " 0.    0.    0.    0.    0.    0.    0.    0.    0.    0.    0.    0.\n",
      " 0.    0.    0.    0.    0.    0.    0.    0.    0.    0.    0.    0.\n",
      " 0.    0.    0.    0.    0.    0.    0.    0.    0.    0.    0.    0.\n",
      " 0.    0.    0.    0.    0.    0.    0.    0.    0.    0.    0.    0.\n",
      " 0.    0.    0.    0.    0.    0.    0.    0.    0.    0.    0.    0.\n",
      " 0.    0.    0.    0.    0.    0.    0.    0.    0.    0.    0.    0.\n",
      " 0.    0.    0.    0.    0.    0.    0.    0.    0.    0.    0.    0.\n",
      " 0.    0.    0.    0.    0.    0.    0.    0.    0.    0.    0.    0.\n",
      " 0.    0.    0.    0.    0.    0.    0.    0.   ]\n"
     ]
    }
   ],
   "source": [
    "print('Explained variation per principal component: {}'.format(pca_features.explained_variance_ratio_))\n",
    "np.sum(pca_features.explained_variance_ratio_)\n",
    "\n",
    "principal_components_train = pd.DataFrame(data = principal_components_train, columns=[f\"pca_{idx}\" for idx in range(component_count)])\n",
    "principal_components_val = pd.DataFrame(data = principal_components_val, columns=[f\"pca_{idx}\" for idx in range(component_count)])"
   ],
   "metadata": {
    "collapsed": false,
    "ExecuteTime": {
     "end_time": "2024-02-23T14:33:22.344172Z",
     "start_time": "2024-02-23T14:33:22.340084Z"
    }
   },
   "id": "fe62c26db7f5a827"
  },
  {
   "cell_type": "code",
   "execution_count": 49,
   "outputs": [
    {
     "name": "stdout",
     "output_type": "stream",
     "text": [
      "(228830, 200) (1495, 200)\n"
     ]
    }
   ],
   "source": [
    "print(principal_components_train.shape, principal_components_val.shape)"
   ],
   "metadata": {
    "collapsed": false,
    "ExecuteTime": {
     "end_time": "2024-02-23T14:33:22.352191Z",
     "start_time": "2024-02-23T14:33:22.344309Z"
    }
   },
   "id": "c7ce26a0a8560175"
  },
  {
   "cell_type": "code",
   "execution_count": 50,
   "outputs": [],
   "source": [
    "# test_features_dict = {name:values[:1] for name, values in features_dict.items()}\n",
    "# feature_preprocessing(test_features_dict)"
   ],
   "metadata": {
    "collapsed": false,
    "ExecuteTime": {
     "end_time": "2024-02-23T14:33:22.394732Z",
     "start_time": "2024-02-23T14:33:22.352405Z"
    }
   },
   "id": "3b746991fac1e620"
  },
  {
   "cell_type": "code",
   "execution_count": 51,
   "outputs": [],
   "source": [
    "normalizer = keras.layers.Normalization(axis=-1)\n",
    "normalizer.adapt(principal_components_train.values)\n",
    "encoding = keras.layers.CategoryEncoding(num_tokens=3, output_mode=\"one_hot\")\n",
    "\n",
    "def construct_model(learning_rate=0.005):\n",
    "    model = keras.Sequential([\n",
    "        layers.Dense(64, activation=\"relu\"),\n",
    "        layers.Dense(64, activation=\"relu\"), \n",
    "        layers.Dense(3, activation=\"relu\"),\n",
    "    ])\n",
    "\n",
    "  # preprocessed_inputs = preprocessing_head(inputs)\n",
    "  # result = body\n",
    "\n",
    "    model.compile(\n",
    "      optimizer=keras.optimizers.Adam(learning_rate=learning_rate),\n",
    "      loss=keras.losses.BinaryCrossentropy(from_logits=True),\n",
    "      metrics=[keras.metrics.CategoricalAccuracy()],\n",
    "    )\n",
    "    return model"
   ],
   "metadata": {
    "collapsed": false,
    "ExecuteTime": {
     "end_time": "2024-02-23T14:33:22.568797Z",
     "start_time": "2024-02-23T14:33:22.369822Z"
    }
   },
   "id": "e6ecca4cb4e96290"
  },
  {
   "cell_type": "code",
   "execution_count": 52,
   "outputs": [],
   "source": [
    "base_epochs = 10\n",
    "train_labels_1ht = encoding(train_labels)\n",
    "val_labels_1ht = encoding(val_labels)"
   ],
   "metadata": {
    "collapsed": false,
    "ExecuteTime": {
     "end_time": "2024-02-23T14:33:22.574221Z",
     "start_time": "2024-02-23T14:33:22.571481Z"
    }
   },
   "id": "9f78075dfc8097be"
  },
  {
   "cell_type": "code",
   "execution_count": 63,
   "outputs": [
    {
     "name": "stdout",
     "output_type": "stream",
     "text": [
      "Epoch 1/20\n",
      "\u001B[1m7151/7151\u001B[0m \u001B[32m━━━━━━━━━━━━━━━━━━━━\u001B[0m\u001B[37m\u001B[0m \u001B[1m4s\u001B[0m 507us/step - categorical_accuracy: 0.4341 - loss: 0.6995 - val_categorical_accuracy: 0.6161 - val_loss: 0.6603\n",
      "Epoch 2/20\n",
      "\u001B[1m7151/7151\u001B[0m \u001B[32m━━━━━━━━━━━━━━━━━━━━\u001B[0m\u001B[37m\u001B[0m \u001B[1m4s\u001B[0m 518us/step - categorical_accuracy: 0.6078 - loss: 0.6605 - val_categorical_accuracy: 0.6662 - val_loss: 0.6513\n",
      "Epoch 3/20\n",
      "\u001B[1m7151/7151\u001B[0m \u001B[32m━━━━━━━━━━━━━━━━━━━━\u001B[0m\u001B[37m\u001B[0m \u001B[1m4s\u001B[0m 504us/step - categorical_accuracy: 0.6356 - loss: 0.6552 - val_categorical_accuracy: 0.6769 - val_loss: 0.6480\n",
      "Epoch 4/20\n",
      "\u001B[1m7151/7151\u001B[0m \u001B[32m━━━━━━━━━━━━━━━━━━━━\u001B[0m\u001B[37m\u001B[0m \u001B[1m4s\u001B[0m 518us/step - categorical_accuracy: 0.6454 - loss: 0.6530 - val_categorical_accuracy: 0.6849 - val_loss: 0.6454\n",
      "Epoch 5/20\n",
      "\u001B[1m7151/7151\u001B[0m \u001B[32m━━━━━━━━━━━━━━━━━━━━\u001B[0m\u001B[37m\u001B[0m \u001B[1m4s\u001B[0m 513us/step - categorical_accuracy: 0.6517 - loss: 0.6506 - val_categorical_accuracy: 0.6903 - val_loss: 0.6421\n",
      "Epoch 6/20\n",
      "\u001B[1m7151/7151\u001B[0m \u001B[32m━━━━━━━━━━━━━━━━━━━━\u001B[0m\u001B[37m\u001B[0m \u001B[1m4s\u001B[0m 517us/step - categorical_accuracy: 0.6588 - loss: 0.6463 - val_categorical_accuracy: 0.6930 - val_loss: 0.6399\n",
      "Epoch 7/20\n",
      "\u001B[1m7151/7151\u001B[0m \u001B[32m━━━━━━━━━━━━━━━━━━━━\u001B[0m\u001B[37m\u001B[0m \u001B[1m4s\u001B[0m 515us/step - categorical_accuracy: 0.6625 - loss: 0.6448 - val_categorical_accuracy: 0.6963 - val_loss: 0.6386\n",
      "Epoch 8/20\n",
      "\u001B[1m7151/7151\u001B[0m \u001B[32m━━━━━━━━━━━━━━━━━━━━\u001B[0m\u001B[37m\u001B[0m \u001B[1m4s\u001B[0m 515us/step - categorical_accuracy: 0.6656 - loss: 0.6439 - val_categorical_accuracy: 0.6936 - val_loss: 0.6377\n",
      "Epoch 9/20\n",
      "\u001B[1m7151/7151\u001B[0m \u001B[32m━━━━━━━━━━━━━━━━━━━━\u001B[0m\u001B[37m\u001B[0m \u001B[1m4s\u001B[0m 516us/step - categorical_accuracy: 0.6694 - loss: 0.6430 - val_categorical_accuracy: 0.6977 - val_loss: 0.6371\n",
      "Epoch 10/20\n",
      "\u001B[1m7151/7151\u001B[0m \u001B[32m━━━━━━━━━━━━━━━━━━━━\u001B[0m\u001B[37m\u001B[0m \u001B[1m4s\u001B[0m 505us/step - categorical_accuracy: 0.6690 - loss: 0.6424 - val_categorical_accuracy: 0.6963 - val_loss: 0.6366\n",
      "Epoch 11/20\n",
      "\u001B[1m7151/7151\u001B[0m \u001B[32m━━━━━━━━━━━━━━━━━━━━\u001B[0m\u001B[37m\u001B[0m \u001B[1m4s\u001B[0m 518us/step - categorical_accuracy: 0.6719 - loss: 0.6414 - val_categorical_accuracy: 0.6983 - val_loss: 0.6360\n",
      "Epoch 12/20\n",
      "\u001B[1m7151/7151\u001B[0m \u001B[32m━━━━━━━━━━━━━━━━━━━━\u001B[0m\u001B[37m\u001B[0m \u001B[1m4s\u001B[0m 517us/step - categorical_accuracy: 0.6717 - loss: 0.6415 - val_categorical_accuracy: 0.6997 - val_loss: 0.6359\n",
      "Epoch 13/20\n",
      "\u001B[1m7151/7151\u001B[0m \u001B[32m━━━━━━━━━━━━━━━━━━━━\u001B[0m\u001B[37m\u001B[0m \u001B[1m4s\u001B[0m 513us/step - categorical_accuracy: 0.6739 - loss: 0.6407 - val_categorical_accuracy: 0.6970 - val_loss: 0.6354\n",
      "Epoch 14/20\n",
      "\u001B[1m7151/7151\u001B[0m \u001B[32m━━━━━━━━━━━━━━━━━━━━\u001B[0m\u001B[37m\u001B[0m \u001B[1m4s\u001B[0m 509us/step - categorical_accuracy: 0.6748 - loss: 0.6398 - val_categorical_accuracy: 0.6943 - val_loss: 0.6352\n",
      "Epoch 15/20\n",
      "\u001B[1m7151/7151\u001B[0m \u001B[32m━━━━━━━━━━━━━━━━━━━━\u001B[0m\u001B[37m\u001B[0m \u001B[1m4s\u001B[0m 518us/step - categorical_accuracy: 0.6746 - loss: 0.6397 - val_categorical_accuracy: 0.6943 - val_loss: 0.6351\n",
      "Epoch 16/20\n",
      "\u001B[1m7151/7151\u001B[0m \u001B[32m━━━━━━━━━━━━━━━━━━━━\u001B[0m\u001B[37m\u001B[0m \u001B[1m4s\u001B[0m 518us/step - categorical_accuracy: 0.6755 - loss: 0.6395 - val_categorical_accuracy: 0.6990 - val_loss: 0.6350\n",
      "Epoch 17/20\n",
      "\u001B[1m7151/7151\u001B[0m \u001B[32m━━━━━━━━━━━━━━━━━━━━\u001B[0m\u001B[37m\u001B[0m \u001B[1m4s\u001B[0m 512us/step - categorical_accuracy: 0.6780 - loss: 0.6388 - val_categorical_accuracy: 0.6977 - val_loss: 0.6349\n",
      "Epoch 18/20\n",
      "\u001B[1m7151/7151\u001B[0m \u001B[32m━━━━━━━━━━━━━━━━━━━━\u001B[0m\u001B[37m\u001B[0m \u001B[1m4s\u001B[0m 506us/step - categorical_accuracy: 0.6763 - loss: 0.6387 - val_categorical_accuracy: 0.6990 - val_loss: 0.6349\n",
      "Epoch 19/20\n",
      "\u001B[1m7151/7151\u001B[0m \u001B[32m━━━━━━━━━━━━━━━━━━━━\u001B[0m\u001B[37m\u001B[0m \u001B[1m4s\u001B[0m 521us/step - categorical_accuracy: 0.6778 - loss: 0.6385 - val_categorical_accuracy: 0.6983 - val_loss: 0.6349\n",
      "Epoch 20/20\n",
      "\u001B[1m7151/7151\u001B[0m \u001B[32m━━━━━━━━━━━━━━━━━━━━\u001B[0m\u001B[37m\u001B[0m \u001B[1m3s\u001B[0m 425us/step - categorical_accuracy: 0.6799 - loss: 0.6378 - val_categorical_accuracy: 0.6957 - val_loss: 0.6349\n"
     ]
    }
   ],
   "source": [
    "fusion_model = construct_model(learning_rate=1e-5)\n",
    "train_history = fusion_model.fit(x=train_features_norm, y=train_labels_1ht, epochs=20, validation_data=(val_features_norm, val_labels_1ht))"
   ],
   "metadata": {
    "collapsed": false,
    "ExecuteTime": {
     "end_time": "2024-02-23T14:40:31.490865Z",
     "start_time": "2024-02-23T14:39:18.080907Z"
    }
   },
   "id": "c3bf008dc892c2f1"
  },
  {
   "cell_type": "code",
   "execution_count": 59,
   "outputs": [],
   "source": [
    "# fusion_model.save(\"data/FusionNetwork2.h5\")\n",
    "fusion_model.save_weights(\"data/FusionWeights.weights.h5\", overwrite=True)\n",
    "keras.saving.save_model(fusion_model, 'data/FusionNetwork2.keras')\n",
    "\n",
    "acc = train_history.history['categorical_accuracy']\n",
    "val_acc = train_history.history['val_categorical_accuracy']\n",
    "\n",
    "loss = train_history.history['loss']\n",
    "val_loss = train_history.history['val_loss']"
   ],
   "metadata": {
    "collapsed": false,
    "ExecuteTime": {
     "end_time": "2024-02-23T14:35:12.049005Z",
     "start_time": "2024-02-23T14:35:12.032542Z"
    }
   },
   "id": "cb53c05b9f97af86"
  },
  {
   "cell_type": "code",
   "execution_count": 55,
   "outputs": [
    {
     "data": {
      "text/plain": "<Figure size 800x800 with 2 Axes>",
      "image/png": "[encoded data removed]"
     },
     "metadata": {},
     "output_type": "display_data"
    }
   ],
   "source": [
    "import matplotlib.pyplot as plt\n",
    "epochs_range = range(1, 11)\n",
    "\n",
    "plt.figure(figsize=(8, 8))\n",
    "plt.subplot(1, 2, 1)\n",
    "plt.plot(epochs_range, acc, label='Training Accuracy')\n",
    "plt.plot(epochs_range, val_acc, label='Validation Accuracy')\n",
    "plt.legend(loc='lower right')\n",
    "plt.title('Training and Validation Accuracy')\n",
    "\n",
    "plt.subplot(1, 2, 2)\n",
    "plt.plot(epochs_range, loss, label='Training Loss')\n",
    "plt.plot(epochs_range, val_loss, label='Validation Loss')\n",
    "plt.legend(loc='upper right')\n",
    "plt.title('Training and Validation Loss')\n",
    "plt.show()"
   ],
   "metadata": {
    "collapsed": false,
    "ExecuteTime": {
     "end_time": "2024-02-23T14:33:45.594691Z",
     "start_time": "2024-02-23T14:33:45.478541Z"
    }
   },
   "id": "ba6e8e8163fd8553"
  },
  {
   "cell_type": "code",
   "execution_count": 56,
   "outputs": [
    {
     "ename": "NameError",
     "evalue": "name 'feature_preprocessing' is not defined",
     "output_type": "error",
     "traceback": [
      "\u001B[0;31m---------------------------------------------------------------------------\u001B[0m",
      "\u001B[0;31mNameError\u001B[0m                                 Traceback (most recent call last)",
      "Cell \u001B[0;32mIn[56], line 2\u001B[0m\n\u001B[1;32m      1\u001B[0m \u001B[38;5;66;03m# fusion_model_fine = keras.models.load_model('data/FusionNetwork.keras')\u001B[39;00m\n\u001B[0;32m----> 2\u001B[0m fusion_model_fine \u001B[38;5;241m=\u001B[39m construct_model(\u001B[43mfeature_preprocessing\u001B[49m, inputs)\n\u001B[1;32m      3\u001B[0m fusion_model_fine\u001B[38;5;241m.\u001B[39mload_weights(\u001B[38;5;124m\"\u001B[39m\u001B[38;5;124mdata/FusionWeights.weights.h5\u001B[39m\u001B[38;5;124m\"\u001B[39m)\n",
      "\u001B[0;31mNameError\u001B[0m: name 'feature_preprocessing' is not defined"
     ]
    }
   ],
   "source": [
    "# fusion_model_fine = keras.models.load_model('data/FusionNetwork.keras')\n",
    "fusion_model_fine = construct_model()\n",
    "fusion_model_fine.load_weights(\"data/FusionWeights.weights.h5\")\n"
   ],
   "metadata": {
    "collapsed": false,
    "ExecuteTime": {
     "end_time": "2024-02-23T14:33:45.604944Z",
     "start_time": "2024-02-23T14:33:45.603897Z"
    }
   },
   "id": "c4d20d675b5ebb52"
  },
  {
   "cell_type": "code",
   "execution_count": null,
   "outputs": [],
   "source": [
    "total_epochs = base_epochs\n",
    "\n",
    "for rate in [5e-6, 2e-6, 1e-6]:\n",
    "    total_epochs += 10\n",
    "    fusion_model_fine.compile(\n",
    "            optimizer=keras.optimizers.Adam(learning_rate=rate),\n",
    "            loss=keras.losses.BinaryCrossentropy(from_logits=True),\n",
    "            metrics=[keras.metrics.CategoricalAccuracy()],\n",
    "        )\n",
    "    train_history = fusion_model_fine.fit(x=train_features_dict, y=train_labels, validation_data=(val_features_dict, val_labels),\n",
    "                             epochs=total_epochs,\n",
    "                             initial_epoch=train_history.epoch[-1])\n",
    "    \n",
    "    acc += train_history.history['categorical_accuracy']\n",
    "    val_acc += train_history.history['val_categorical_accuracy']\n",
    "    \n",
    "    loss += train_history.history['loss']\n",
    "    val_loss += train_history.history['val_loss']"
   ],
   "metadata": {
    "collapsed": false,
    "ExecuteTime": {
     "end_time": "2024-02-23T14:33:45.607420Z",
     "start_time": "2024-02-23T14:33:45.605640Z"
    }
   },
   "id": "fa2c47c6fa682719"
  },
  {
   "cell_type": "code",
   "execution_count": null,
   "outputs": [],
   "source": [
    "for rate in [5e-7, 2e-7]:\n",
    "    total_epochs += 10\n",
    "    fusion_model_fine.compile(\n",
    "            optimizer=keras.optimizers.Adam(learning_rate=rate),\n",
    "            loss=keras.losses.BinaryCrossentropy(from_logits=True),\n",
    "            metrics=[keras.metrics.CategoricalAccuracy()],\n",
    "        )\n",
    "    train_history = fusion_model_fine.fit(x=train_features_dict, y=train_labels, validation_data=(val_features_dict, val_labels),\n",
    "                             epochs=total_epochs,\n",
    "                             initial_epoch=train_history.epoch[-1])\n",
    "    \n",
    "    acc += train_history.history['categorical_accuracy']\n",
    "    val_acc += train_history.history['val_categorical_accuracy']\n",
    "    \n",
    "    loss += train_history.history['loss']\n",
    "    val_loss += train_history.history['val_loss']"
   ],
   "metadata": {
    "collapsed": false,
    "ExecuteTime": {
     "start_time": "2024-02-23T14:33:45.606952Z"
    }
   },
   "id": "5c96690bf1f98ca4"
  },
  {
   "cell_type": "code",
   "execution_count": null,
   "outputs": [],
   "source": [],
   "metadata": {
    "collapsed": false,
    "ExecuteTime": {
     "start_time": "2024-02-23T14:33:45.607952Z"
    }
   },
   "id": "e7fb3357e2a49a93"
  }
 ],
 "metadata": {
  "kernelspec": {
   "display_name": "Python 3",
   "language": "python",
   "name": "python3"
  },
  "language_info": {
   "codemirror_mode": {
    "name": "ipython",
    "version": 2
   },
   "file_extension": ".py",
   "mimetype": "text/x-python",
   "name": "python",
   "nbconvert_exporter": "python",
   "pygments_lexer": "ipython2",
   "version": "2.7.6"
  }
 },
 "nbformat": 4,
 "nbformat_minor": 5
}
