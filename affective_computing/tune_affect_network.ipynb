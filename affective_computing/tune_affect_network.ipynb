{
 "cells": [
  {
   "cell_type": "code",
   "execution_count": 2,
   "outputs": [],
   "source": [
    "import tensorflow as tf\n",
    "import matplotlib.pyplot as plt\n",
    "import keras\n",
    "from keras import layers\n",
    "import numpy as np\n",
    "import os"
   ],
   "metadata": {
    "collapsed": false,
    "ExecuteTime": {
     "end_time": "2023-11-24T11:07:30.480655Z",
     "start_time": "2023-11-24T11:07:30.418437Z"
    }
   },
   "id": "8e68532fc847bd57"
  },
  {
   "cell_type": "code",
   "execution_count": 2,
   "outputs": [
    {
     "name": "stdout",
     "output_type": "stream",
     "text": [
      "Found 48104 files belonging to 7 classes.\n",
      "Found 3493 files belonging to 7 classes.\n"
     ]
    }
   ],
   "source": [
    "base_path_structured = \"/Users/benhoskings/Documents/Datasets/Fusion\"\n",
    "\n",
    "class_names = [\"Anger\", \"Disgust\", \"Happy\", \"Neutral\", \"Fear\", \"Sad\", \"Surprise\"]\n",
    "batch_size = 128\n",
    "\n",
    "train_ds = tf.keras.utils.image_dataset_from_directory(\n",
    "    os.path.join(base_path_structured, \"train_set\"), \n",
    "    class_names=class_names,\n",
    "    label_mode=\"categorical\", \n",
    "    labels=\"inferred\",\n",
    "    batch_size=batch_size,\n",
    "    image_size=(299, 299),\n",
    "    seed=101)\n",
    "\n",
    "val_ds = tf.keras.utils.image_dataset_from_directory(\n",
    "    os.path.join(base_path_structured, \"val_set\"), \n",
    "    class_names=class_names,\n",
    "    label_mode=\"categorical\", \n",
    "    labels=\"inferred\",\n",
    "    batch_size=batch_size,\n",
    "    image_size=(299, 299),\n",
    "    seed=101)"
   ],
   "metadata": {
    "collapsed": false,
    "ExecuteTime": {
     "end_time": "2023-11-24T10:54:57.979679Z",
     "start_time": "2023-11-24T10:54:57.103130Z"
    }
   },
   "id": "initial_id"
  },
  {
   "cell_type": "code",
   "execution_count": 9,
   "outputs": [
    {
     "name": "stdout",
     "output_type": "stream",
     "text": [
      "10 10 1e-05\n",
      "20 10 5e-06\n",
      "30 10 5e-06\n",
      "40 10 5e-06\n",
      "50 10 5e-06\n"
     ]
    }
   ],
   "source": [
    "base_rate = 0.001\n",
    "layer_counts = [10, 20, 30, 40, 50]\n",
    "rates = [base_rate / min([l_count*10, 200]) for l_count in layer_counts]\n",
    "epochs = [10 for _ in layer_counts]\n",
    "\n",
    "\n",
    "for count, epoch, rate in zip(layer_counts, epochs, rates):\n",
    "    print(count, epoch, rate)\n",
    "    "
   ],
   "metadata": {
    "collapsed": false,
    "ExecuteTime": {
     "end_time": "2023-11-24T11:14:36.969900Z",
     "start_time": "2023-11-24T11:14:36.965714Z"
    }
   },
   "id": "e6f3963e509074ba"
  },
  {
   "cell_type": "code",
   "execution_count": null,
   "outputs": [],
   "source": [],
   "metadata": {
    "collapsed": false
   },
   "id": "d939fb62a3d00311"
  }
 ],
 "metadata": {
  "kernelspec": {
   "display_name": "Python 3",
   "language": "python",
   "name": "python3"
  },
  "language_info": {
   "codemirror_mode": {
    "name": "ipython",
    "version": 2
   },
   "file_extension": ".py",
   "mimetype": "text/x-python",
   "name": "python",
   "nbconvert_exporter": "python",
   "pygments_lexer": "ipython2",
   "version": "2.7.6"
  }
 },
 "nbformat": 4,
 "nbformat_minor": 5
}
