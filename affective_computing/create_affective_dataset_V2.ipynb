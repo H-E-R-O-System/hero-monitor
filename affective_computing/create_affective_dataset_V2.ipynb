{
 "cells": [
  {
   "cell_type": "code",
   "execution_count": 40,
   "outputs": [],
   "source": [
    "import numpy as np\n",
    "import pandas as pd\n",
    "import os\n",
    "import math\n",
    "from scipy.io import savemat\n",
    "import shutil\n",
    "from PIL import Image"
   ],
   "metadata": {
    "collapsed": false,
    "ExecuteTime": {
     "end_time": "2024-02-19T21:42:13.878022Z",
     "start_time": "2024-02-19T21:42:13.873661Z"
    }
   },
   "id": "a1291f40a8d24f87"
  },
  {
   "cell_type": "code",
   "execution_count": 41,
   "outputs": [],
   "source": [
    "np.random.seed(101)"
   ],
   "metadata": {
    "collapsed": false,
    "ExecuteTime": {
     "end_time": "2024-02-19T21:42:14.172040Z",
     "start_time": "2024-02-19T21:42:14.166182Z"
    }
   },
   "id": "d54b59a6939d35c"
  },
  {
   "cell_type": "code",
   "execution_count": 42,
   "outputs": [],
   "source": [
    "base_path_structured = \"/Users/benhoskings/Documents/Datasets/FusionV2\"\n",
    "train_path_structured = os.path.join(base_path_structured, \"train_set\")\n",
    "val_path_structured = os.path.join(base_path_structured, \"val_set\")"
   ],
   "metadata": {
    "collapsed": false,
    "ExecuteTime": {
     "end_time": "2024-02-19T21:42:14.458853Z",
     "start_time": "2024-02-19T21:42:14.452083Z"
    }
   },
   "id": "initial_id"
  },
  {
   "cell_type": "code",
   "execution_count": 43,
   "outputs": [],
   "source": [
    "emotions_affect_net = pd.Series([\"Neutral\", \"Happy\", \"Sad\", \"Surprise\", \"Fear\", \"Disgust\", \"Anger\", \"Contempt\"])\n",
    "# 3794, 1091 is given as contempt should be happy?\n",
    "emotions_aff_wild = pd.Series([\"Neutral\",\"Anger\",\"Disgust\",\"Fear\",\"Happy\",\"Sad\",\"Surprise\",\"Other\"])\n",
    "\n",
    "processed_emotions = pd.Series([\"Neutral\", \"Positive\", \"Negative\"])\n",
    "\n",
    "for set_name in [\"train_set\", \"val_set\"]:\n",
    "    if not os.path.isdir(os.path.join(base_path_structured, set_name)):\n",
    "        os.mkdir(os.path.join(base_path_structured, set_name))\n",
    "        \n",
    "    for em in pd.unique(pd.concat([processed_emotions])):\n",
    "        if not os.path.isdir(os.path.join(base_path_structured, set_name, em)):\n",
    "            os.mkdir(os.path.join(base_path_structured, set_name, em))\n",
    "        "
   ],
   "metadata": {
    "collapsed": false,
    "ExecuteTime": {
     "end_time": "2024-02-19T21:42:14.896163Z",
     "start_time": "2024-02-19T21:42:14.893442Z"
    }
   },
   "id": "dd43205d7b98ca2a"
  },
  {
   "cell_type": "code",
   "execution_count": 53,
   "outputs": [],
   "source": [
    "def get_sample_ids(emotions, counts, max_size=None):\n",
    "    # counts = [24882, 3750, 3803, 6378, 134414, 74874, 25459, 14090]\n",
    "    label_count = dict(zip(emotions, counts))\n",
    "    \n",
    "    if max_size:\n",
    "        max_size = min([max_size, min(label_count.values())])\n",
    "    else:\n",
    "        max_size = min(label_count.values())\n",
    "        \n",
    "    ids1 = np.empty((max_size, 0), np.int32)\n",
    "    ids2 = np.empty((0, 1), np.int32)\n",
    "    \n",
    "    for idx, emotion in enumerate(emotions):\n",
    "        file_count = label_count[emotion]\n",
    "        emIds = np.random.permutation(np.arange(file_count))[:max_size]\n",
    "        start_idx = sum(counts[:idx])\n",
    "        ids1 = np.append(ids1, np.expand_dims(emIds, axis=1), axis=1)\n",
    "        ids2 = np.append(ids2, start_idx + emIds)\n",
    "        \n",
    "    return ids1, ids2, class_count\n",
    "\n",
    "def num_string(num):\n",
    "    if num != 0:\n",
    "        return f\"0000{int(num)}\"[int(math.log10(num)):]\n",
    "    else:\n",
    "        return \"00000\"\n",
    "\n",
    "def is_corrupted(file_path):\n",
    "    try:\n",
    "        with Image.open(file_path) as img:\n",
    "            img.verify() # verify that it is, in fact an image\n",
    "        return False\n",
    "    except:\n",
    "        return True\n",
    "    \n",
    "def map_affectnet_emotion(emotion):\n",
    "    emotion: np.dtypes.StrDType\n",
    "    if emotion.astype(np.uint8) < 2:\n",
    "        label = emotion\n",
    "    elif emotion.astype(np.uint8) == 3 or emotion.astype(np.uint8) == 7:\n",
    "        label = 3\n",
    "    else:\n",
    "        label = 2\n",
    "        \n",
    "    return label\n",
    "\n",
    "emotions_aff_wild = pd.Series([\"Neutral\",\"Anger\",\"Disgust\",\"Fear\",\"Happy\",\"Sad\",\"Surprise\",\"Other\"])\n",
    "\n",
    "def map_affectwild_emotion(emotion):\n",
    "    emotion: np.dtypes.StrDType\n",
    "    if emotion == 0:\n",
    "        label = 0\n",
    "    elif emotion == 4:\n",
    "        label = 1\n",
    "    elif emotion > 5:\n",
    "        label = 3\n",
    "    else:\n",
    "        label = 2\n",
    "        \n",
    "    return label"
   ],
   "metadata": {
    "collapsed": false,
    "ExecuteTime": {
     "end_time": "2024-02-19T22:00:12.106201Z",
     "start_time": "2024-02-19T22:00:12.102634Z"
    }
   },
   "id": "a12c4787a3e3fffb"
  },
  {
   "cell_type": "markdown",
   "source": [
    "## AffectNet Processing"
   ],
   "metadata": {
    "collapsed": false
   },
   "id": "6e87e721c0663cdd"
  },
  {
   "cell_type": "code",
   "execution_count": 46,
   "outputs": [],
   "source": [
    "set_counts = {\"train_set\": 414797, \"val_set\": 5496}\n",
    "# set_counts = {\"val_set\": 5496}\n",
    "base_path_raw = \"/Users/benhoskings/Documents/Datasets/AffectNet/Data\"\n",
    "\n",
    "for set_name, count in set_counts.items():\n",
    "    base_path_set = os.path.join(base_path_raw, set_name)\n",
    "    # logical array indicating if each instance has an image associated with it\n",
    "    has_image = np.array([os.path.isfile(f\"{base_path_set}/images/{idx}.jpg\") for idx in range(count)])\n",
    "    # logical array indicating if each instance has an emotion associated with it\n",
    "    has_emotion = np.array([os.path.isfile(f\"{base_path_set}/annotations/{idx}_exp.npy\") for idx in range(count)])\n",
    "    \n",
    "    # create a dataframe to store values\n",
    "    train_labels_affect_net = pd.DataFrame(index=range(count))\n",
    "    train_labels_affect_net[\"has_image\"] = has_image # update image array \n",
    "    train_labels_affect_net[\"has_emotion\"] = has_emotion # update annotation array \n",
    "    \n",
    "    # filter any instance which does not have an image AND a labelled emotion\n",
    "    train_labels_affect_net = train_labels_affect_net.loc[\n",
    "        np.logical_and(train_labels_affect_net[\"has_image\"] == True, train_labels_affect_net[\"has_emotion\"] == True)]\n",
    "    \n",
    "    # get image paths for all remaining instances \n",
    "    image_paths = [f\"{base_path_set}/images/{idx}.jpg\" for idx in train_labels_affect_net.index]\n",
    "    affect_net_emotions = np.array(\n",
    "        [map_affectnet_emotion(np.load(f\"{base_path_set}/annotations/{idx}_exp.npy\")) for idx in train_labels_affect_net.index],\n",
    "        dtype=np.uint8)\n",
    "    \n",
    "    # assign image and emotion paths to dataframe \n",
    "    train_labels_affect_net[\"image_path\"] = image_paths\n",
    "    train_labels_affect_net[\"emotion\"] = affect_net_emotions\n",
    "    \n",
    "    # set the index of the dataframe to the image path\n",
    "    train_labels_affect_net = train_labels_affect_net.set_index(\"image_path\")\n",
    "    \n",
    "    # Remove any duplicated rows \n",
    "    train_labels_affect_net = train_labels_affect_net[~train_labels_affect_net.index.duplicated(keep='first')]\n",
    "    \n",
    "    # Order by the emotions \n",
    "    train_labels_affect_net = train_labels_affect_net.sort_values(by=[\"emotion\"])\n",
    "    \n",
    "    # Number of samples of each class\n",
    "    affect_net_class_count = train_labels_affect_net.value_counts(subset=['emotion'])\n",
    "    \n",
    "    class_count = np.array(affect_net_class_count)\n",
    "    class_labels = np.array([id for id in affect_net_class_count.index]).flatten()\n",
    "    class_count = class_count[np.argsort(class_labels)]\n",
    "    \n",
    "    id1, id2, sample_count = get_sample_ids(emotions=processed_emotions, counts=class_count)\n",
    "    train_subset = train_labels_affect_net.iloc[id2, :]\n",
    "    \n",
    "    class_counts = np.zeros((len(processed_emotions), 1))\n",
    "    \n",
    "    for im_path in train_subset.index:\n",
    "        values = train_subset.loc[im_path]\n",
    "        emotion_idx = int(values[\"emotion\"])\n",
    "        emotion = processed_emotions[emotion_idx]\n",
    "        class_idx = class_counts[emotion_idx]\n",
    "        sample_path = os.path.join(base_path_structured, set_name, emotion, \"AN-\" + num_string(class_idx.item()))\n",
    "        # savemat(f\"{sample_path}.mat\", values.to_dict())\n",
    "        shutil.copy(im_path, f\"{sample_path}.png\")\n",
    "        class_counts[emotion_idx] += 1"
   ],
   "metadata": {
    "collapsed": false,
    "ExecuteTime": {
     "end_time": "2024-02-19T21:49:24.300628Z",
     "start_time": "2024-02-19T21:45:03.510135Z"
    }
   },
   "id": "ae599192a66cd3c2"
  },
  {
   "cell_type": "markdown",
   "source": [
    "## Aff-Wild-V2 Processing "
   ],
   "metadata": {
    "collapsed": false
   },
   "id": "832993e249edc65b"
  },
  {
   "cell_type": "code",
   "execution_count": 57,
   "outputs": [
    {
     "ename": "FileNotFoundError",
     "evalue": "[Errno 2] No such file or directory: '/Users/benhoskings/Documents/Datasets/Aff-Wild-V2/Provided/Third ABAW Annotations/MTL_Challenge/val_set.txt'",
     "output_type": "error",
     "traceback": [
      "\u001B[0;31m---------------------------------------------------------------------------\u001B[0m",
      "\u001B[0;31mFileNotFoundError\u001B[0m                         Traceback (most recent call last)",
      "Cell \u001B[0;32mIn[57], line 7\u001B[0m\n\u001B[1;32m      3\u001B[0m image_path_raw \u001B[38;5;241m=\u001B[39m os\u001B[38;5;241m.\u001B[39mpath\u001B[38;5;241m.\u001B[39mjoin(base_path_raw, \u001B[38;5;124m\"\u001B[39m\u001B[38;5;124mImages\u001B[39m\u001B[38;5;124m\"\u001B[39m)\n\u001B[1;32m      5\u001B[0m \u001B[38;5;28;01mfor\u001B[39;00m set_name \u001B[38;5;129;01min\u001B[39;00m [\u001B[38;5;124m\"\u001B[39m\u001B[38;5;124mval_set\u001B[39m\u001B[38;5;124m\"\u001B[39m]:\n\u001B[1;32m      6\u001B[0m     \u001B[38;5;66;03m# read label values\u001B[39;00m\n\u001B[0;32m----> 7\u001B[0m     labels \u001B[38;5;241m=\u001B[39m \u001B[43mpd\u001B[49m\u001B[38;5;241;43m.\u001B[39;49m\u001B[43mread_csv\u001B[49m\u001B[43m(\u001B[49m\u001B[43mos\u001B[49m\u001B[38;5;241;43m.\u001B[39;49m\u001B[43mpath\u001B[49m\u001B[38;5;241;43m.\u001B[39;49m\u001B[43mjoin\u001B[49m\u001B[43m(\u001B[49m\u001B[43mlabel_path\u001B[49m\u001B[43m,\u001B[49m\u001B[43m \u001B[49m\u001B[43mset_name\u001B[49m\u001B[43m \u001B[49m\u001B[38;5;241;43m+\u001B[39;49m\u001B[43m \u001B[49m\u001B[38;5;124;43m\"\u001B[39;49m\u001B[38;5;124;43m.txt\u001B[39;49m\u001B[38;5;124;43m\"\u001B[39;49m\u001B[43m)\u001B[49m\u001B[43m,\u001B[49m\u001B[43m \u001B[49m\u001B[43mindex_col\u001B[49m\u001B[38;5;241;43m=\u001B[39;49m\u001B[38;5;241;43m0\u001B[39;49m\u001B[43m)\u001B[49m\n\u001B[1;32m      8\u001B[0m     labels \u001B[38;5;241m=\u001B[39m labels\u001B[38;5;241m.\u001B[39mloc[labels[\u001B[38;5;124m'\u001B[39m\u001B[38;5;124mexpression\u001B[39m\u001B[38;5;124m'\u001B[39m] \u001B[38;5;241m>\u001B[39m\u001B[38;5;241m=\u001B[39m \u001B[38;5;241m0\u001B[39m]\n\u001B[1;32m     10\u001B[0m     labels\u001B[38;5;241m.\u001B[39mexpression \u001B[38;5;241m=\u001B[39m [map_affectwild_emotion(expression) \u001B[38;5;28;01mfor\u001B[39;00m expression \u001B[38;5;129;01min\u001B[39;00m labels\u001B[38;5;241m.\u001B[39mexpression]\n",
      "File \u001B[0;32m~/Documents/Pycharm/Hero_Monitor/venv/lib/python3.10/site-packages/pandas/io/parsers/readers.py:1024\u001B[0m, in \u001B[0;36mread_csv\u001B[0;34m(filepath_or_buffer, sep, delimiter, header, names, index_col, usecols, dtype, engine, converters, true_values, false_values, skipinitialspace, skiprows, skipfooter, nrows, na_values, keep_default_na, na_filter, verbose, skip_blank_lines, parse_dates, infer_datetime_format, keep_date_col, date_parser, date_format, dayfirst, cache_dates, iterator, chunksize, compression, thousands, decimal, lineterminator, quotechar, quoting, doublequote, escapechar, comment, encoding, encoding_errors, dialect, on_bad_lines, delim_whitespace, low_memory, memory_map, float_precision, storage_options, dtype_backend)\u001B[0m\n\u001B[1;32m   1011\u001B[0m kwds_defaults \u001B[38;5;241m=\u001B[39m _refine_defaults_read(\n\u001B[1;32m   1012\u001B[0m     dialect,\n\u001B[1;32m   1013\u001B[0m     delimiter,\n\u001B[0;32m   (...)\u001B[0m\n\u001B[1;32m   1020\u001B[0m     dtype_backend\u001B[38;5;241m=\u001B[39mdtype_backend,\n\u001B[1;32m   1021\u001B[0m )\n\u001B[1;32m   1022\u001B[0m kwds\u001B[38;5;241m.\u001B[39mupdate(kwds_defaults)\n\u001B[0;32m-> 1024\u001B[0m \u001B[38;5;28;01mreturn\u001B[39;00m \u001B[43m_read\u001B[49m\u001B[43m(\u001B[49m\u001B[43mfilepath_or_buffer\u001B[49m\u001B[43m,\u001B[49m\u001B[43m \u001B[49m\u001B[43mkwds\u001B[49m\u001B[43m)\u001B[49m\n",
      "File \u001B[0;32m~/Documents/Pycharm/Hero_Monitor/venv/lib/python3.10/site-packages/pandas/io/parsers/readers.py:618\u001B[0m, in \u001B[0;36m_read\u001B[0;34m(filepath_or_buffer, kwds)\u001B[0m\n\u001B[1;32m    615\u001B[0m _validate_names(kwds\u001B[38;5;241m.\u001B[39mget(\u001B[38;5;124m\"\u001B[39m\u001B[38;5;124mnames\u001B[39m\u001B[38;5;124m\"\u001B[39m, \u001B[38;5;28;01mNone\u001B[39;00m))\n\u001B[1;32m    617\u001B[0m \u001B[38;5;66;03m# Create the parser.\u001B[39;00m\n\u001B[0;32m--> 618\u001B[0m parser \u001B[38;5;241m=\u001B[39m \u001B[43mTextFileReader\u001B[49m\u001B[43m(\u001B[49m\u001B[43mfilepath_or_buffer\u001B[49m\u001B[43m,\u001B[49m\u001B[43m \u001B[49m\u001B[38;5;241;43m*\u001B[39;49m\u001B[38;5;241;43m*\u001B[39;49m\u001B[43mkwds\u001B[49m\u001B[43m)\u001B[49m\n\u001B[1;32m    620\u001B[0m \u001B[38;5;28;01mif\u001B[39;00m chunksize \u001B[38;5;129;01mor\u001B[39;00m iterator:\n\u001B[1;32m    621\u001B[0m     \u001B[38;5;28;01mreturn\u001B[39;00m parser\n",
      "File \u001B[0;32m~/Documents/Pycharm/Hero_Monitor/venv/lib/python3.10/site-packages/pandas/io/parsers/readers.py:1618\u001B[0m, in \u001B[0;36mTextFileReader.__init__\u001B[0;34m(self, f, engine, **kwds)\u001B[0m\n\u001B[1;32m   1615\u001B[0m     \u001B[38;5;28mself\u001B[39m\u001B[38;5;241m.\u001B[39moptions[\u001B[38;5;124m\"\u001B[39m\u001B[38;5;124mhas_index_names\u001B[39m\u001B[38;5;124m\"\u001B[39m] \u001B[38;5;241m=\u001B[39m kwds[\u001B[38;5;124m\"\u001B[39m\u001B[38;5;124mhas_index_names\u001B[39m\u001B[38;5;124m\"\u001B[39m]\n\u001B[1;32m   1617\u001B[0m \u001B[38;5;28mself\u001B[39m\u001B[38;5;241m.\u001B[39mhandles: IOHandles \u001B[38;5;241m|\u001B[39m \u001B[38;5;28;01mNone\u001B[39;00m \u001B[38;5;241m=\u001B[39m \u001B[38;5;28;01mNone\u001B[39;00m\n\u001B[0;32m-> 1618\u001B[0m \u001B[38;5;28mself\u001B[39m\u001B[38;5;241m.\u001B[39m_engine \u001B[38;5;241m=\u001B[39m \u001B[38;5;28;43mself\u001B[39;49m\u001B[38;5;241;43m.\u001B[39;49m\u001B[43m_make_engine\u001B[49m\u001B[43m(\u001B[49m\u001B[43mf\u001B[49m\u001B[43m,\u001B[49m\u001B[43m \u001B[49m\u001B[38;5;28;43mself\u001B[39;49m\u001B[38;5;241;43m.\u001B[39;49m\u001B[43mengine\u001B[49m\u001B[43m)\u001B[49m\n",
      "File \u001B[0;32m~/Documents/Pycharm/Hero_Monitor/venv/lib/python3.10/site-packages/pandas/io/parsers/readers.py:1878\u001B[0m, in \u001B[0;36mTextFileReader._make_engine\u001B[0;34m(self, f, engine)\u001B[0m\n\u001B[1;32m   1876\u001B[0m     \u001B[38;5;28;01mif\u001B[39;00m \u001B[38;5;124m\"\u001B[39m\u001B[38;5;124mb\u001B[39m\u001B[38;5;124m\"\u001B[39m \u001B[38;5;129;01mnot\u001B[39;00m \u001B[38;5;129;01min\u001B[39;00m mode:\n\u001B[1;32m   1877\u001B[0m         mode \u001B[38;5;241m+\u001B[39m\u001B[38;5;241m=\u001B[39m \u001B[38;5;124m\"\u001B[39m\u001B[38;5;124mb\u001B[39m\u001B[38;5;124m\"\u001B[39m\n\u001B[0;32m-> 1878\u001B[0m \u001B[38;5;28mself\u001B[39m\u001B[38;5;241m.\u001B[39mhandles \u001B[38;5;241m=\u001B[39m \u001B[43mget_handle\u001B[49m\u001B[43m(\u001B[49m\n\u001B[1;32m   1879\u001B[0m \u001B[43m    \u001B[49m\u001B[43mf\u001B[49m\u001B[43m,\u001B[49m\n\u001B[1;32m   1880\u001B[0m \u001B[43m    \u001B[49m\u001B[43mmode\u001B[49m\u001B[43m,\u001B[49m\n\u001B[1;32m   1881\u001B[0m \u001B[43m    \u001B[49m\u001B[43mencoding\u001B[49m\u001B[38;5;241;43m=\u001B[39;49m\u001B[38;5;28;43mself\u001B[39;49m\u001B[38;5;241;43m.\u001B[39;49m\u001B[43moptions\u001B[49m\u001B[38;5;241;43m.\u001B[39;49m\u001B[43mget\u001B[49m\u001B[43m(\u001B[49m\u001B[38;5;124;43m\"\u001B[39;49m\u001B[38;5;124;43mencoding\u001B[39;49m\u001B[38;5;124;43m\"\u001B[39;49m\u001B[43m,\u001B[49m\u001B[43m \u001B[49m\u001B[38;5;28;43;01mNone\u001B[39;49;00m\u001B[43m)\u001B[49m\u001B[43m,\u001B[49m\n\u001B[1;32m   1882\u001B[0m \u001B[43m    \u001B[49m\u001B[43mcompression\u001B[49m\u001B[38;5;241;43m=\u001B[39;49m\u001B[38;5;28;43mself\u001B[39;49m\u001B[38;5;241;43m.\u001B[39;49m\u001B[43moptions\u001B[49m\u001B[38;5;241;43m.\u001B[39;49m\u001B[43mget\u001B[49m\u001B[43m(\u001B[49m\u001B[38;5;124;43m\"\u001B[39;49m\u001B[38;5;124;43mcompression\u001B[39;49m\u001B[38;5;124;43m\"\u001B[39;49m\u001B[43m,\u001B[49m\u001B[43m \u001B[49m\u001B[38;5;28;43;01mNone\u001B[39;49;00m\u001B[43m)\u001B[49m\u001B[43m,\u001B[49m\n\u001B[1;32m   1883\u001B[0m \u001B[43m    \u001B[49m\u001B[43mmemory_map\u001B[49m\u001B[38;5;241;43m=\u001B[39;49m\u001B[38;5;28;43mself\u001B[39;49m\u001B[38;5;241;43m.\u001B[39;49m\u001B[43moptions\u001B[49m\u001B[38;5;241;43m.\u001B[39;49m\u001B[43mget\u001B[49m\u001B[43m(\u001B[49m\u001B[38;5;124;43m\"\u001B[39;49m\u001B[38;5;124;43mmemory_map\u001B[39;49m\u001B[38;5;124;43m\"\u001B[39;49m\u001B[43m,\u001B[49m\u001B[43m \u001B[49m\u001B[38;5;28;43;01mFalse\u001B[39;49;00m\u001B[43m)\u001B[49m\u001B[43m,\u001B[49m\n\u001B[1;32m   1884\u001B[0m \u001B[43m    \u001B[49m\u001B[43mis_text\u001B[49m\u001B[38;5;241;43m=\u001B[39;49m\u001B[43mis_text\u001B[49m\u001B[43m,\u001B[49m\n\u001B[1;32m   1885\u001B[0m \u001B[43m    \u001B[49m\u001B[43merrors\u001B[49m\u001B[38;5;241;43m=\u001B[39;49m\u001B[38;5;28;43mself\u001B[39;49m\u001B[38;5;241;43m.\u001B[39;49m\u001B[43moptions\u001B[49m\u001B[38;5;241;43m.\u001B[39;49m\u001B[43mget\u001B[49m\u001B[43m(\u001B[49m\u001B[38;5;124;43m\"\u001B[39;49m\u001B[38;5;124;43mencoding_errors\u001B[39;49m\u001B[38;5;124;43m\"\u001B[39;49m\u001B[43m,\u001B[49m\u001B[43m \u001B[49m\u001B[38;5;124;43m\"\u001B[39;49m\u001B[38;5;124;43mstrict\u001B[39;49m\u001B[38;5;124;43m\"\u001B[39;49m\u001B[43m)\u001B[49m\u001B[43m,\u001B[49m\n\u001B[1;32m   1886\u001B[0m \u001B[43m    \u001B[49m\u001B[43mstorage_options\u001B[49m\u001B[38;5;241;43m=\u001B[39;49m\u001B[38;5;28;43mself\u001B[39;49m\u001B[38;5;241;43m.\u001B[39;49m\u001B[43moptions\u001B[49m\u001B[38;5;241;43m.\u001B[39;49m\u001B[43mget\u001B[49m\u001B[43m(\u001B[49m\u001B[38;5;124;43m\"\u001B[39;49m\u001B[38;5;124;43mstorage_options\u001B[39;49m\u001B[38;5;124;43m\"\u001B[39;49m\u001B[43m,\u001B[49m\u001B[43m \u001B[49m\u001B[38;5;28;43;01mNone\u001B[39;49;00m\u001B[43m)\u001B[49m\u001B[43m,\u001B[49m\n\u001B[1;32m   1887\u001B[0m \u001B[43m\u001B[49m\u001B[43m)\u001B[49m\n\u001B[1;32m   1888\u001B[0m \u001B[38;5;28;01massert\u001B[39;00m \u001B[38;5;28mself\u001B[39m\u001B[38;5;241m.\u001B[39mhandles \u001B[38;5;129;01mis\u001B[39;00m \u001B[38;5;129;01mnot\u001B[39;00m \u001B[38;5;28;01mNone\u001B[39;00m\n\u001B[1;32m   1889\u001B[0m f \u001B[38;5;241m=\u001B[39m \u001B[38;5;28mself\u001B[39m\u001B[38;5;241m.\u001B[39mhandles\u001B[38;5;241m.\u001B[39mhandle\n",
      "File \u001B[0;32m~/Documents/Pycharm/Hero_Monitor/venv/lib/python3.10/site-packages/pandas/io/common.py:873\u001B[0m, in \u001B[0;36mget_handle\u001B[0;34m(path_or_buf, mode, encoding, compression, memory_map, is_text, errors, storage_options)\u001B[0m\n\u001B[1;32m    868\u001B[0m \u001B[38;5;28;01melif\u001B[39;00m \u001B[38;5;28misinstance\u001B[39m(handle, \u001B[38;5;28mstr\u001B[39m):\n\u001B[1;32m    869\u001B[0m     \u001B[38;5;66;03m# Check whether the filename is to be opened in binary mode.\u001B[39;00m\n\u001B[1;32m    870\u001B[0m     \u001B[38;5;66;03m# Binary mode does not support 'encoding' and 'newline'.\u001B[39;00m\n\u001B[1;32m    871\u001B[0m     \u001B[38;5;28;01mif\u001B[39;00m ioargs\u001B[38;5;241m.\u001B[39mencoding \u001B[38;5;129;01mand\u001B[39;00m \u001B[38;5;124m\"\u001B[39m\u001B[38;5;124mb\u001B[39m\u001B[38;5;124m\"\u001B[39m \u001B[38;5;129;01mnot\u001B[39;00m \u001B[38;5;129;01min\u001B[39;00m ioargs\u001B[38;5;241m.\u001B[39mmode:\n\u001B[1;32m    872\u001B[0m         \u001B[38;5;66;03m# Encoding\u001B[39;00m\n\u001B[0;32m--> 873\u001B[0m         handle \u001B[38;5;241m=\u001B[39m \u001B[38;5;28;43mopen\u001B[39;49m\u001B[43m(\u001B[49m\n\u001B[1;32m    874\u001B[0m \u001B[43m            \u001B[49m\u001B[43mhandle\u001B[49m\u001B[43m,\u001B[49m\n\u001B[1;32m    875\u001B[0m \u001B[43m            \u001B[49m\u001B[43mioargs\u001B[49m\u001B[38;5;241;43m.\u001B[39;49m\u001B[43mmode\u001B[49m\u001B[43m,\u001B[49m\n\u001B[1;32m    876\u001B[0m \u001B[43m            \u001B[49m\u001B[43mencoding\u001B[49m\u001B[38;5;241;43m=\u001B[39;49m\u001B[43mioargs\u001B[49m\u001B[38;5;241;43m.\u001B[39;49m\u001B[43mencoding\u001B[49m\u001B[43m,\u001B[49m\n\u001B[1;32m    877\u001B[0m \u001B[43m            \u001B[49m\u001B[43merrors\u001B[49m\u001B[38;5;241;43m=\u001B[39;49m\u001B[43merrors\u001B[49m\u001B[43m,\u001B[49m\n\u001B[1;32m    878\u001B[0m \u001B[43m            \u001B[49m\u001B[43mnewline\u001B[49m\u001B[38;5;241;43m=\u001B[39;49m\u001B[38;5;124;43m\"\u001B[39;49m\u001B[38;5;124;43m\"\u001B[39;49m\u001B[43m,\u001B[49m\n\u001B[1;32m    879\u001B[0m \u001B[43m        \u001B[49m\u001B[43m)\u001B[49m\n\u001B[1;32m    880\u001B[0m     \u001B[38;5;28;01melse\u001B[39;00m:\n\u001B[1;32m    881\u001B[0m         \u001B[38;5;66;03m# Binary mode\u001B[39;00m\n\u001B[1;32m    882\u001B[0m         handle \u001B[38;5;241m=\u001B[39m \u001B[38;5;28mopen\u001B[39m(handle, ioargs\u001B[38;5;241m.\u001B[39mmode)\n",
      "\u001B[0;31mFileNotFoundError\u001B[0m: [Errno 2] No such file or directory: '/Users/benhoskings/Documents/Datasets/Aff-Wild-V2/Provided/Third ABAW Annotations/MTL_Challenge/val_set.txt'"
     ]
    }
   ],
   "source": [
    "base_path_raw = \"/Users/benhoskings/Documents/Datasets/Aff-Wild-V2/Provided\"\n",
    "label_path = os.path.join(base_path_raw, \"Third ABAW Annotations/MTL_Challenge\")\n",
    "image_path_raw = os.path.join(base_path_raw, \"Images\")\n",
    "\n",
    "for set_name in [\"val_set\"]:\n",
    "    # read label values\n",
    "    labels = pd.read_csv(os.path.join(label_path, set_name + \".txt\"), index_col=0)\n",
    "    labels = labels.loc[labels['expression'] >= 0]\n",
    "    \n",
    "    labels.expression = [map_affectwild_emotion(expression) for expression in labels.expression]\n",
    "    labels = labels.sort_values(by=[\"expression\"])\n",
    "    \n",
    "    corrupt = np.array([is_corrupted(os.path.join(image_path_raw, path)) for path in labels.index])\n",
    "    labels = labels.loc[np.logical_not(corrupt)]\n",
    "    labels = labels[~labels.index.duplicated(keep='first')]\n",
    "    \n",
    "    print(len(pd.unique(labels.index)))\n",
    "\n",
    "    aff_wild_class_count = labels.value_counts(subset=['expression'])\n",
    "    print(aff_wild_class_count)\n",
    "    \n",
    "    class_count = np.array(aff_wild_class_count, dtype=np.int64)\n",
    "    class_labels = np.array([id[0] for id in aff_wild_class_count.index], dtype=np.uint16)\n",
    "    class_count = class_count[np.argsort(class_labels)]\n",
    "    id1, id2, sample_count = get_sample_ids(processed_emotions, class_count)\n",
    "    train_subset = labels.iloc[id2, :]\n",
    "    print(train_subset.value_counts(subset=['expression']))\n",
    "    \n",
    "    print(train_subset.head(10).to_string())\n",
    "    class_counts = np.zeros((len(processed_emotions), 1))\n",
    "    \n",
    "    for im_path in train_subset.index:\n",
    "        values = train_subset.loc[im_path]\n",
    "        emotion_idx = int(values[\"expression\"])\n",
    "        emotion = processed_emotions[emotion_idx]\n",
    "        class_idx = class_counts[emotion_idx]\n",
    "        sample_path = os.path.join(base_path_structured, set_name, emotion, \"AW-\" + num_string(class_idx.item()))\n",
    "        print(sample_path)\n",
    "        # savemat(f\"{sample_path}.mat\", values.to_dict())\n",
    "        shutil.copy(os.path.join(image_path_raw, im_path), f\"{sample_path}.png\")\n",
    "        class_counts[emotion_idx] += 1"
   ],
   "metadata": {
    "collapsed": false,
    "ExecuteTime": {
     "end_time": "2024-02-19T22:06:22.309692Z",
     "start_time": "2024-02-19T22:06:22.259565Z"
    }
   },
   "id": "23ca12eae8c08a82"
  },
  {
   "cell_type": "code",
   "execution_count": null,
   "outputs": [],
   "source": [],
   "metadata": {
    "collapsed": false
   },
   "id": "6337bc7335da8f6c"
  }
 ],
 "metadata": {
  "kernelspec": {
   "display_name": "Python 3",
   "language": "python",
   "name": "python3"
  },
  "language_info": {
   "codemirror_mode": {
    "name": "ipython",
    "version": 2
   },
   "file_extension": ".py",
   "mimetype": "text/x-python",
   "name": "python",
   "nbconvert_exporter": "python",
   "pygments_lexer": "ipython2",
   "version": "2.7.6"
  }
 },
 "nbformat": 4,
 "nbformat_minor": 5
}
