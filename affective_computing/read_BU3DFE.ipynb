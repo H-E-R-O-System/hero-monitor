{
 "cells": [
  {
   "cell_type": "code",
   "execution_count": 65,
   "outputs": [],
   "source": [
    "import math\n",
    "import os.path\n",
    "from scipy.io import loadmat"
   ],
   "metadata": {
    "collapsed": false,
    "ExecuteTime": {
     "end_time": "2024-02-19T10:22:22.242372Z",
     "start_time": "2024-02-19T10:22:22.239395Z"
    }
   },
   "id": "ba9eb583b88fb75e"
  },
  {
   "cell_type": "code",
   "execution_count": 66,
   "outputs": [],
   "source": [
    "dataset_path = \"/Users/benhoskings/Documents/Datasets/BU3DFE/BU3D_Matlab_V3\"\n",
    "\n",
    "def num_string(num):\n",
    "    if num != 0:\n",
    "        return f\"00{int(num)}\"[int(math.log10(num)):]\n",
    "    else:\n",
    "        return \"000\"\n",
    "    \n",
    "class DataReader:\n",
    "    def __init__(self):\n",
    "        self.base_path_3d = \"/Users/benhoskings/Documents/Datasets/BU3DFE/BU3D_Matlab_V3\"\n",
    "\n",
    "    \n",
    "    def get_data_3D(self, sex, ID, emotion, intensities, processed=True, face_points=True, landmarks=True):\n",
    "    \n",
    "        if emotion == \"Neutral\":\n",
    "            intensities = 1\n",
    "    \n",
    "        if (sex == \"M\" and ID > 44) or (sex == \"F\" and ID > 56):\n",
    "            IndexError(\"ID exceeds the number of participants\")\n",
    "        \n",
    "        IDString = num_string(ID)\n",
    "    \n",
    "        if processed:\n",
    "            folderPath = os.path.join(dataset_path, sex + IDString, emotion)\n",
    "    \n",
    "        \n",
    "        if face_points:\n",
    "            face_data = loadmat(os.path.join(folderPath, \"FaceData.mat\"), {})\n",
    "            print(face_data[\"None\"][0][3])\n",
    "            print(face_data.keys())\n",
    "            \n",
    "            face_clouds = face_data[\"faceClouds\"]\n",
    "            facePoints = face_clouds(intensities)\n",
    "        else:\n",
    "            facePoints = None\n",
    "    \n",
    "        if landmarks:\n",
    "            face_data = loadmat(os.path.join(folderPath, \"landmarkData.mat\"))\n",
    "            print(face_data)\n",
    "            \n",
    "            landmark_clouds = face_data[\"faceClouds\"]\n",
    "            landmarks = landmark_clouds(intensities)\n",
    "        else:\n",
    "            landmarks = None\n",
    "            \n",
    "        return facePoints, landmarks"
   ],
   "metadata": {
    "collapsed": false,
    "ExecuteTime": {
     "end_time": "2024-02-19T10:22:22.248219Z",
     "start_time": "2024-02-19T10:22:22.246602Z"
    }
   },
   "id": "initial_id"
  },
  {
   "cell_type": "code",
   "execution_count": 67,
   "outputs": [
    {
     "name": "stdout",
     "output_type": "stream",
     "text": [
      "{'__header__': b'MATLAB 5.0 MAT-file, Platform: MACI64, Created on: Sat Mar  4 13:31:20 2023', '__version__': '1.0', '__globals__': [], 'None': MatlabOpaque([(b'landmarkClouds', b'MCOS', b'pointCloud', array([[3707764736],\n",
      "                     [         2],\n",
      "                     [         1],\n",
      "                     [         4],\n",
      "                     [         1],\n",
      "                     [         2],\n",
      "                     [         3],\n",
      "                     [         4],\n",
      "                     [         1]], dtype=uint32))                            ],\n",
      "             dtype=[('s0', 'O'), ('s1', 'O'), ('s2', 'O'), ('arr', 'O')]), '__function_workspace__': array([[ 0,  1, 73, ...,  0,  0,  0]], dtype=uint8)}\n"
     ]
    },
    {
     "ename": "KeyError",
     "evalue": "'faceClouds'",
     "output_type": "error",
     "traceback": [
      "\u001B[0;31m---------------------------------------------------------------------------\u001B[0m",
      "\u001B[0;31mKeyError\u001B[0m                                  Traceback (most recent call last)",
      "Cell \u001B[0;32mIn[67], line 1\u001B[0m\n\u001B[0;32m----> 1\u001B[0m \u001B[43mget_data_3D\u001B[49m\u001B[43m(\u001B[49m\u001B[38;5;124;43m\"\u001B[39;49m\u001B[38;5;124;43mM\u001B[39;49m\u001B[38;5;124;43m\"\u001B[39;49m\u001B[43m,\u001B[49m\u001B[43m \u001B[49m\u001B[38;5;241;43m3\u001B[39;49m\u001B[43m,\u001B[49m\u001B[43m \u001B[49m\u001B[38;5;124;43m\"\u001B[39;49m\u001B[38;5;124;43mHappy\u001B[39;49m\u001B[38;5;124;43m\"\u001B[39;49m\u001B[43m,\u001B[49m\u001B[43m \u001B[49m\u001B[38;5;241;43m4\u001B[39;49m\u001B[43m,\u001B[49m\u001B[43m \u001B[49m\u001B[43mface_points\u001B[49m\u001B[38;5;241;43m=\u001B[39;49m\u001B[38;5;28;43;01mFalse\u001B[39;49;00m\u001B[43m)\u001B[49m\n",
      "Cell \u001B[0;32mIn[66], line 51\u001B[0m, in \u001B[0;36mget_data_3D\u001B[0;34m(sex, ID, emotion, intensities, processed, face_points, landmarks)\u001B[0m\n\u001B[1;32m     48\u001B[0m     face_data \u001B[38;5;241m=\u001B[39m loadmat(os\u001B[38;5;241m.\u001B[39mpath\u001B[38;5;241m.\u001B[39mjoin(folderPath, \u001B[38;5;124m\"\u001B[39m\u001B[38;5;124mlandmarkData.mat\u001B[39m\u001B[38;5;124m\"\u001B[39m))\n\u001B[1;32m     49\u001B[0m     \u001B[38;5;28mprint\u001B[39m(face_data)\n\u001B[0;32m---> 51\u001B[0m     landmark_clouds \u001B[38;5;241m=\u001B[39m \u001B[43mface_data\u001B[49m\u001B[43m[\u001B[49m\u001B[38;5;124;43m\"\u001B[39;49m\u001B[38;5;124;43mfaceClouds\u001B[39;49m\u001B[38;5;124;43m\"\u001B[39;49m\u001B[43m]\u001B[49m\n\u001B[1;32m     52\u001B[0m     landmarks \u001B[38;5;241m=\u001B[39m landmark_clouds(intensities)\n\u001B[1;32m     53\u001B[0m \u001B[38;5;28;01melse\u001B[39;00m:\n",
      "\u001B[0;31mKeyError\u001B[0m: 'faceClouds'"
     ]
    }
   ],
   "source": [
    "get_data_3D(\"M\", 3, \"Happy\", 4, face_points=False)"
   ],
   "metadata": {
    "collapsed": false,
    "ExecuteTime": {
     "end_time": "2024-02-19T10:22:22.275928Z",
     "start_time": "2024-02-19T10:22:22.249634Z"
    }
   },
   "id": "940caf6aa3174f03"
  }
 ],
 "metadata": {
  "kernelspec": {
   "display_name": "Python 3",
   "language": "python",
   "name": "python3"
  },
  "language_info": {
   "codemirror_mode": {
    "name": "ipython",
    "version": 2
   },
   "file_extension": ".py",
   "mimetype": "text/x-python",
   "name": "python",
   "nbconvert_exporter": "python",
   "pygments_lexer": "ipython2",
   "version": "2.7.6"
  }
 },
 "nbformat": 4,
 "nbformat_minor": 5
}
