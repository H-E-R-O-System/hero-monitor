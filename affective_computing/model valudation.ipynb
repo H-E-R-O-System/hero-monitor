{
 "cells": [
  {
   "cell_type": "code",
   "execution_count": 1,
   "id": "initial_id",
   "metadata": {
    "collapsed": true,
    "ExecuteTime": {
     "end_time": "2024-03-04T11:24:38.416983Z",
     "start_time": "2024-03-04T11:24:35.838732Z"
    }
   },
   "outputs": [],
   "source": [
    "import time\n",
    "\n",
    "import matplotlib.pyplot as plt\n",
    "import keras\n",
    "import os\n",
    "from scipy.special import softmax"
   ]
  },
  {
   "cell_type": "code",
   "execution_count": 2,
   "outputs": [],
   "source": [
    "plt.rcParams[\"font.family\"] = \"serif\"\n",
    "plt.rcParams[\"font.serif\"] = [\"Times New Roman\"]"
   ],
   "metadata": {
    "collapsed": false,
    "ExecuteTime": {
     "end_time": "2024-03-04T11:24:38.421085Z",
     "start_time": "2024-03-04T11:24:38.417875Z"
    }
   },
   "id": "65582d6ade2cb950"
  },
  {
   "cell_type": "code",
   "execution_count": 3,
   "outputs": [
    {
     "name": "stderr",
     "output_type": "stream",
     "text": [
      "/Users/benhoskings/Documents/Pycharm/Hero_Monitor/venv/lib/python3.10/site-packages/keras/src/saving/saving_lib.py:394: UserWarning: Skipping variable loading for optimizer 'adam', because it has 354 variables whereas the saved optimizer has 28 variables. \n",
      "  trackable.load_own_variables(weights_store.get(inner_path))\n"
     ]
    }
   ],
   "source": [
    "affective_model = keras.models.load_model(\"../models/AffectInceptionResNetV3.keras\")"
   ],
   "metadata": {
    "collapsed": false,
    "ExecuteTime": {
     "end_time": "2024-03-04T11:24:39.702473Z",
     "start_time": "2024-03-04T11:24:38.420831Z"
    }
   },
   "id": "a87a90111a973c4a"
  },
  {
   "cell_type": "code",
   "execution_count": 4,
   "outputs": [
    {
     "ename": "KeyboardInterrupt",
     "evalue": "",
     "output_type": "error",
     "traceback": [
      "\u001B[0;31m---------------------------------------------------------------------------\u001B[0m",
      "\u001B[0;31mKeyboardInterrupt\u001B[0m                         Traceback (most recent call last)",
      "Cell \u001B[0;32mIn[4], line 9\u001B[0m\n\u001B[1;32m      6\u001B[0m batch_size \u001B[38;5;241m=\u001B[39m \u001B[38;5;241m128\u001B[39m\n\u001B[1;32m      7\u001B[0m image_shape \u001B[38;5;241m=\u001B[39m (\u001B[38;5;241m224\u001B[39m, \u001B[38;5;241m224\u001B[39m, \u001B[38;5;241m3\u001B[39m)\n\u001B[0;32m----> 9\u001B[0m train_ds \u001B[38;5;241m=\u001B[39m \u001B[43mkeras\u001B[49m\u001B[38;5;241;43m.\u001B[39;49m\u001B[43mutils\u001B[49m\u001B[38;5;241;43m.\u001B[39;49m\u001B[43mimage_dataset_from_directory\u001B[49m\u001B[43m(\u001B[49m\n\u001B[1;32m     10\u001B[0m \u001B[43m    \u001B[49m\u001B[43mtrain_path_structured\u001B[49m\u001B[43m,\u001B[49m\u001B[43m \u001B[49m\n\u001B[1;32m     11\u001B[0m \u001B[43m    \u001B[49m\u001B[43mclass_names\u001B[49m\u001B[38;5;241;43m=\u001B[39;49m\u001B[43mclass_names\u001B[49m\u001B[43m,\u001B[49m\n\u001B[1;32m     12\u001B[0m \u001B[43m    \u001B[49m\u001B[43mlabel_mode\u001B[49m\u001B[38;5;241;43m=\u001B[39;49m\u001B[38;5;124;43m\"\u001B[39;49m\u001B[38;5;124;43mcategorical\u001B[39;49m\u001B[38;5;124;43m\"\u001B[39;49m\u001B[43m,\u001B[49m\u001B[43m \u001B[49m\n\u001B[1;32m     13\u001B[0m \u001B[43m    \u001B[49m\u001B[43mlabels\u001B[49m\u001B[38;5;241;43m=\u001B[39;49m\u001B[38;5;124;43m\"\u001B[39;49m\u001B[38;5;124;43minferred\u001B[39;49m\u001B[38;5;124;43m\"\u001B[39;49m\u001B[43m,\u001B[49m\n\u001B[1;32m     14\u001B[0m \u001B[43m    \u001B[49m\u001B[43mbatch_size\u001B[49m\u001B[38;5;241;43m=\u001B[39;49m\u001B[43mbatch_size\u001B[49m\u001B[43m,\u001B[49m\n\u001B[1;32m     15\u001B[0m \u001B[43m    \u001B[49m\u001B[43mimage_size\u001B[49m\u001B[38;5;241;43m=\u001B[39;49m\u001B[43mimage_shape\u001B[49m\u001B[43m[\u001B[49m\u001B[38;5;241;43m0\u001B[39;49m\u001B[43m:\u001B[49m\u001B[38;5;241;43m2\u001B[39;49m\u001B[43m]\u001B[49m\u001B[43m,\u001B[49m\n\u001B[1;32m     16\u001B[0m \u001B[43m    \u001B[49m\u001B[43mseed\u001B[49m\u001B[38;5;241;43m=\u001B[39;49m\u001B[38;5;241;43m101\u001B[39;49m\u001B[43m)\u001B[49m\n\u001B[1;32m     18\u001B[0m val_ds \u001B[38;5;241m=\u001B[39m keras\u001B[38;5;241m.\u001B[39mutils\u001B[38;5;241m.\u001B[39mimage_dataset_from_directory(\n\u001B[1;32m     19\u001B[0m     os\u001B[38;5;241m.\u001B[39mpath\u001B[38;5;241m.\u001B[39mjoin(base_path_structured, \u001B[38;5;124m\"\u001B[39m\u001B[38;5;124mval_set\u001B[39m\u001B[38;5;124m\"\u001B[39m), \n\u001B[1;32m     20\u001B[0m     class_names\u001B[38;5;241m=\u001B[39mclass_names,\n\u001B[0;32m   (...)\u001B[0m\n\u001B[1;32m     25\u001B[0m     seed\u001B[38;5;241m=\u001B[39m\u001B[38;5;241m101\u001B[39m, \n\u001B[1;32m     26\u001B[0m     shuffle\u001B[38;5;241m=\u001B[39m\u001B[38;5;28;01mFalse\u001B[39;00m)\n",
      "File \u001B[0;32m~/Documents/Pycharm/Hero_Monitor/venv/lib/python3.10/site-packages/keras/src/utils/image_dataset_utils.py:212\u001B[0m, in \u001B[0;36mimage_dataset_from_directory\u001B[0;34m(directory, labels, label_mode, class_names, color_mode, batch_size, image_size, shuffle, seed, validation_split, subset, interpolation, follow_links, crop_to_aspect_ratio, data_format)\u001B[0m\n\u001B[1;32m    210\u001B[0m \u001B[38;5;28;01mif\u001B[39;00m seed \u001B[38;5;129;01mis\u001B[39;00m \u001B[38;5;28;01mNone\u001B[39;00m:\n\u001B[1;32m    211\u001B[0m     seed \u001B[38;5;241m=\u001B[39m np\u001B[38;5;241m.\u001B[39mrandom\u001B[38;5;241m.\u001B[39mrandint(\u001B[38;5;241m1e6\u001B[39m)\n\u001B[0;32m--> 212\u001B[0m image_paths, labels, class_names \u001B[38;5;241m=\u001B[39m \u001B[43mdataset_utils\u001B[49m\u001B[38;5;241;43m.\u001B[39;49m\u001B[43mindex_directory\u001B[49m\u001B[43m(\u001B[49m\n\u001B[1;32m    213\u001B[0m \u001B[43m    \u001B[49m\u001B[43mdirectory\u001B[49m\u001B[43m,\u001B[49m\n\u001B[1;32m    214\u001B[0m \u001B[43m    \u001B[49m\u001B[43mlabels\u001B[49m\u001B[43m,\u001B[49m\n\u001B[1;32m    215\u001B[0m \u001B[43m    \u001B[49m\u001B[43mformats\u001B[49m\u001B[38;5;241;43m=\u001B[39;49m\u001B[43mALLOWLIST_FORMATS\u001B[49m\u001B[43m,\u001B[49m\n\u001B[1;32m    216\u001B[0m \u001B[43m    \u001B[49m\u001B[43mclass_names\u001B[49m\u001B[38;5;241;43m=\u001B[39;49m\u001B[43mclass_names\u001B[49m\u001B[43m,\u001B[49m\n\u001B[1;32m    217\u001B[0m \u001B[43m    \u001B[49m\u001B[43mshuffle\u001B[49m\u001B[38;5;241;43m=\u001B[39;49m\u001B[43mshuffle\u001B[49m\u001B[43m,\u001B[49m\n\u001B[1;32m    218\u001B[0m \u001B[43m    \u001B[49m\u001B[43mseed\u001B[49m\u001B[38;5;241;43m=\u001B[39;49m\u001B[43mseed\u001B[49m\u001B[43m,\u001B[49m\n\u001B[1;32m    219\u001B[0m \u001B[43m    \u001B[49m\u001B[43mfollow_links\u001B[49m\u001B[38;5;241;43m=\u001B[39;49m\u001B[43mfollow_links\u001B[49m\u001B[43m,\u001B[49m\n\u001B[1;32m    220\u001B[0m \u001B[43m\u001B[49m\u001B[43m)\u001B[49m\n\u001B[1;32m    222\u001B[0m \u001B[38;5;28;01mif\u001B[39;00m label_mode \u001B[38;5;241m==\u001B[39m \u001B[38;5;124m\"\u001B[39m\u001B[38;5;124mbinary\u001B[39m\u001B[38;5;124m\"\u001B[39m \u001B[38;5;129;01mand\u001B[39;00m \u001B[38;5;28mlen\u001B[39m(class_names) \u001B[38;5;241m!=\u001B[39m \u001B[38;5;241m2\u001B[39m:\n\u001B[1;32m    223\u001B[0m     \u001B[38;5;28;01mraise\u001B[39;00m \u001B[38;5;167;01mValueError\u001B[39;00m(\n\u001B[1;32m    224\u001B[0m         \u001B[38;5;124m'\u001B[39m\u001B[38;5;124mWhen passing `label_mode=\u001B[39m\u001B[38;5;124m\"\u001B[39m\u001B[38;5;124mbinary\u001B[39m\u001B[38;5;124m\"\u001B[39m\u001B[38;5;124m`, there must be exactly 2 \u001B[39m\u001B[38;5;124m'\u001B[39m\n\u001B[1;32m    225\u001B[0m         \u001B[38;5;124mf\u001B[39m\u001B[38;5;124m\"\u001B[39m\u001B[38;5;124mclass_names. Received: class_names=\u001B[39m\u001B[38;5;132;01m{\u001B[39;00mclass_names\u001B[38;5;132;01m}\u001B[39;00m\u001B[38;5;124m\"\u001B[39m\n\u001B[1;32m    226\u001B[0m     )\n",
      "File \u001B[0;32m~/Documents/Pycharm/Hero_Monitor/venv/lib/python3.10/site-packages/keras/src/utils/dataset_utils.py:590\u001B[0m, in \u001B[0;36mindex_directory\u001B[0;34m(directory, labels, formats, class_names, shuffle, seed, follow_links)\u001B[0m\n\u001B[1;32m    588\u001B[0m labels_list \u001B[38;5;241m=\u001B[39m []\n\u001B[1;32m    589\u001B[0m \u001B[38;5;28;01mfor\u001B[39;00m res \u001B[38;5;129;01min\u001B[39;00m results:\n\u001B[0;32m--> 590\u001B[0m     partial_filenames, partial_labels \u001B[38;5;241m=\u001B[39m \u001B[43mres\u001B[49m\u001B[38;5;241;43m.\u001B[39;49m\u001B[43mget\u001B[49m\u001B[43m(\u001B[49m\u001B[43m)\u001B[49m\n\u001B[1;32m    591\u001B[0m     labels_list\u001B[38;5;241m.\u001B[39mappend(partial_labels)\n\u001B[1;32m    592\u001B[0m     filenames \u001B[38;5;241m+\u001B[39m\u001B[38;5;241m=\u001B[39m partial_filenames\n",
      "File \u001B[0;32m/opt/homebrew/Cellar/python@3.10/3.10.13_1/Frameworks/Python.framework/Versions/3.10/lib/python3.10/multiprocessing/pool.py:768\u001B[0m, in \u001B[0;36mApplyResult.get\u001B[0;34m(self, timeout)\u001B[0m\n\u001B[1;32m    767\u001B[0m \u001B[38;5;28;01mdef\u001B[39;00m \u001B[38;5;21mget\u001B[39m(\u001B[38;5;28mself\u001B[39m, timeout\u001B[38;5;241m=\u001B[39m\u001B[38;5;28;01mNone\u001B[39;00m):\n\u001B[0;32m--> 768\u001B[0m     \u001B[38;5;28;43mself\u001B[39;49m\u001B[38;5;241;43m.\u001B[39;49m\u001B[43mwait\u001B[49m\u001B[43m(\u001B[49m\u001B[43mtimeout\u001B[49m\u001B[43m)\u001B[49m\n\u001B[1;32m    769\u001B[0m     \u001B[38;5;28;01mif\u001B[39;00m \u001B[38;5;129;01mnot\u001B[39;00m \u001B[38;5;28mself\u001B[39m\u001B[38;5;241m.\u001B[39mready():\n\u001B[1;32m    770\u001B[0m         \u001B[38;5;28;01mraise\u001B[39;00m \u001B[38;5;167;01mTimeoutError\u001B[39;00m\n",
      "File \u001B[0;32m/opt/homebrew/Cellar/python@3.10/3.10.13_1/Frameworks/Python.framework/Versions/3.10/lib/python3.10/multiprocessing/pool.py:765\u001B[0m, in \u001B[0;36mApplyResult.wait\u001B[0;34m(self, timeout)\u001B[0m\n\u001B[1;32m    764\u001B[0m \u001B[38;5;28;01mdef\u001B[39;00m \u001B[38;5;21mwait\u001B[39m(\u001B[38;5;28mself\u001B[39m, timeout\u001B[38;5;241m=\u001B[39m\u001B[38;5;28;01mNone\u001B[39;00m):\n\u001B[0;32m--> 765\u001B[0m     \u001B[38;5;28;43mself\u001B[39;49m\u001B[38;5;241;43m.\u001B[39;49m\u001B[43m_event\u001B[49m\u001B[38;5;241;43m.\u001B[39;49m\u001B[43mwait\u001B[49m\u001B[43m(\u001B[49m\u001B[43mtimeout\u001B[49m\u001B[43m)\u001B[49m\n",
      "File \u001B[0;32m/opt/homebrew/Cellar/python@3.10/3.10.13_1/Frameworks/Python.framework/Versions/3.10/lib/python3.10/threading.py:607\u001B[0m, in \u001B[0;36mEvent.wait\u001B[0;34m(self, timeout)\u001B[0m\n\u001B[1;32m    605\u001B[0m signaled \u001B[38;5;241m=\u001B[39m \u001B[38;5;28mself\u001B[39m\u001B[38;5;241m.\u001B[39m_flag\n\u001B[1;32m    606\u001B[0m \u001B[38;5;28;01mif\u001B[39;00m \u001B[38;5;129;01mnot\u001B[39;00m signaled:\n\u001B[0;32m--> 607\u001B[0m     signaled \u001B[38;5;241m=\u001B[39m \u001B[38;5;28;43mself\u001B[39;49m\u001B[38;5;241;43m.\u001B[39;49m\u001B[43m_cond\u001B[49m\u001B[38;5;241;43m.\u001B[39;49m\u001B[43mwait\u001B[49m\u001B[43m(\u001B[49m\u001B[43mtimeout\u001B[49m\u001B[43m)\u001B[49m\n\u001B[1;32m    608\u001B[0m \u001B[38;5;28;01mreturn\u001B[39;00m signaled\n",
      "File \u001B[0;32m/opt/homebrew/Cellar/python@3.10/3.10.13_1/Frameworks/Python.framework/Versions/3.10/lib/python3.10/threading.py:320\u001B[0m, in \u001B[0;36mCondition.wait\u001B[0;34m(self, timeout)\u001B[0m\n\u001B[1;32m    318\u001B[0m \u001B[38;5;28;01mtry\u001B[39;00m:    \u001B[38;5;66;03m# restore state no matter what (e.g., KeyboardInterrupt)\u001B[39;00m\n\u001B[1;32m    319\u001B[0m     \u001B[38;5;28;01mif\u001B[39;00m timeout \u001B[38;5;129;01mis\u001B[39;00m \u001B[38;5;28;01mNone\u001B[39;00m:\n\u001B[0;32m--> 320\u001B[0m         \u001B[43mwaiter\u001B[49m\u001B[38;5;241;43m.\u001B[39;49m\u001B[43macquire\u001B[49m\u001B[43m(\u001B[49m\u001B[43m)\u001B[49m\n\u001B[1;32m    321\u001B[0m         gotit \u001B[38;5;241m=\u001B[39m \u001B[38;5;28;01mTrue\u001B[39;00m\n\u001B[1;32m    322\u001B[0m     \u001B[38;5;28;01melse\u001B[39;00m:\n",
      "\u001B[0;31mKeyboardInterrupt\u001B[0m: "
     ]
    }
   ],
   "source": [
    "base_path_structured = \"/Users/benhoskings/Documents/Datasets/FusionV2\"\n",
    "train_path_structured = os.path.join(base_path_structured, \"train_set\")\n",
    "\n",
    "class_names = [\"Negative\", \"Neutral\", \"Positive\"]\n",
    "# class_names = [\"Anger\", \"Disgust\", \"Happy\", \"Neutral\", \"Fear\", \"Sad\", \"Surprise\"]\n",
    "batch_size = 128\n",
    "image_shape = (224, 224, 3)\n",
    "\n",
    "train_ds = keras.utils.image_dataset_from_directory(\n",
    "    train_path_structured, \n",
    "    class_names=class_names,\n",
    "    label_mode=\"categorical\", \n",
    "    labels=\"inferred\",\n",
    "    batch_size=batch_size,\n",
    "    image_size=image_shape[0:2],\n",
    "    seed=101)\n",
    "\n",
    "val_ds = keras.utils.image_dataset_from_directory(\n",
    "    os.path.join(base_path_structured, \"val_set\"), \n",
    "    class_names=class_names,\n",
    "    label_mode=\"categorical\", \n",
    "    labels=\"inferred\",\n",
    "    batch_size=128,\n",
    "    image_size=image_shape[0:2],\n",
    "    seed=101, \n",
    "    shuffle=False)"
   ],
   "metadata": {
    "collapsed": false,
    "ExecuteTime": {
     "end_time": "2024-03-04T11:24:40.276419Z",
     "start_time": "2024-03-04T11:24:39.693Z"
    }
   },
   "id": "56dbc23232a386d6"
  },
  {
   "cell_type": "code",
   "execution_count": null,
   "outputs": [],
   "source": [
    "print(\"Evaluate\")\n",
    "# result = affective_model.evaluate(val_ds)\n",
    "# print(dict(zip(affective_model.metrics_names, result)))\n",
    "start = time.monotonic()\n",
    "predictions = affective_model.predict(val_ds)\n",
    "print(f\"Avg prediction time: {(time.monotonic() - start) / 1500}s\")"
   ],
   "metadata": {
    "collapsed": false,
    "ExecuteTime": {
     "end_time": "2024-03-04T11:24:40.286294Z",
     "start_time": "2024-03-04T11:24:40.276838Z"
    }
   },
   "id": "4c087a8c434ce689"
  },
  {
   "cell_type": "code",
   "execution_count": null,
   "outputs": [],
   "source": [
    "from sklearn.metrics import confusion_matrix\n",
    "import numpy as np\n",
    "\n",
    "pred_classes = np.argmax(predictions, axis=1)\n",
    "print(pred_classes)\n",
    "true_categories = np.concatenate([y for x, y in val_ds], axis=0)\n",
    "print(np.argmax(true_categories, axis=1))"
   ],
   "metadata": {
    "collapsed": false,
    "ExecuteTime": {
     "start_time": "2024-03-04T11:24:40.278637Z"
    }
   },
   "id": "62db9cd835478b6a"
  },
  {
   "cell_type": "code",
   "execution_count": null,
   "outputs": [],
   "source": [
    "# font_dict={'size': 20, 'color': 'black', \"family\": \"serif\", \"name\": \"Times New Roman\"}\n",
    "# cm = confusion_matrix(y_true=np.argmax(true_categories, axis=1), y_pred=pred_classes)\n",
    "# fig = plt.figure(figsize = (8,8))\n",
    "# ax1 = fig.add_subplot(1,1,1)\n",
    "# seaborn.set(font_scale=1.4) #for label size\n",
    "# seaborn.heatmap(cm, annot=True, annot_kws={\"size\": 12}, cbar = False, cmap='Blues', fmt='d')\n",
    "# ax1.set_yticklabels(class_names, fontdict=font_dict)\n",
    "# ax1.set_xticklabels(class_names, fontdict=font_dict)\n",
    "# # ax1.set_ylabel('True Values', fontdict=font_dict)\n",
    "# # ax1.set_xlabel('Predicted Values',fontsize=14)\n",
    "# \n",
    "# plt.savefig(\"confusion_matrix.png\", bbox_inches='tight')\n",
    "# plt.show()"
   ],
   "metadata": {
    "collapsed": false,
    "ExecuteTime": {
     "start_time": "2024-03-04T11:24:40.280047Z"
    }
   },
   "id": "91e2e38425df6f10"
  },
  {
   "cell_type": "code",
   "execution_count": null,
   "outputs": [],
   "source": [
    "img = keras.utils.load_img(\"../data/affective_images/question_0/images/im_0.png\", target_size=image_shape[:2])\n",
    "\n",
    "img_array = keras.utils.img_to_array(img)\n",
    "img_array = np.expand_dims(img_array, 0) # Create a batch\n",
    "\n",
    "predictions = affective_model.predict(img_array, verbose=0)\n",
    "print(predictions)\n",
    "print(softmax(predictions, axis=1))\n",
    "print(\"This image most likely belongs to {} with a {:.2f} percent confidence.\"\n",
    "    .format(class_names[np.argmax(predictions)], 100 * np.max(softmax(predictions, axis=1)))\n",
    ")"
   ],
   "metadata": {
    "collapsed": false,
    "ExecuteTime": {
     "start_time": "2024-03-04T11:24:40.281250Z"
    }
   },
   "id": "8a1f6b2d3c4dd365"
  },
  {
   "cell_type": "code",
   "execution_count": null,
   "outputs": [],
   "source": [
    "fig = plt.figure(figsize=(16, 14))\n",
    "\n",
    "val_ds = keras.utils.image_dataset_from_directory(\n",
    "    os.path.join(base_path_structured, \"val_set\"), \n",
    "    class_names=class_names,\n",
    "    label_mode=\"categorical\", \n",
    "    labels=\"inferred\",\n",
    "    batch_size=batch_size,\n",
    "    image_size=image_shape[0:2],\n",
    "    seed=101, \n",
    "    shuffle=True)\n",
    "\n",
    "# fig, axes = plt.subplots(nrows=4, ncols=4, figsize=(8, 8))\n",
    "plt.tight_layout() # Or equivalently,  \"plt.tight_layout()\"\n",
    "\n",
    "for images, labels in val_ds.take(1):\n",
    "    for i in range(16):\n",
    "        ax = plt.subplot(4, 4, i + 1)\n",
    "        image = images[i+64].numpy().astype(\"uint8\")\n",
    "        img_array = keras.utils.img_to_array(image)\n",
    "        img_array = np.expand_dims(img_array, 0) # Create a batch\n",
    "\n",
    "        plt.imshow(image)\n",
    "        predictions = affective_model.predict(img_array, verbose=0)\n",
    "        plt.title(f\"{class_names[np.argmax(predictions)]} ({np.round(100*np.max(softmax(predictions)), 2)}%)\")\n",
    "        plt.axis(\"off\")\n",
    "        \n",
    "# plt.subplots_adjust(bottom=0.1, right=0.8, top=0.9)\n",
    "plt.savefig(\"affective_predictions.png\", bbox_inches='tight')"
   ],
   "metadata": {
    "collapsed": false,
    "ExecuteTime": {
     "start_time": "2024-03-04T11:24:40.282193Z"
    }
   },
   "id": "69ba846b4ecef8d5"
  },
  {
   "cell_type": "code",
   "execution_count": null,
   "outputs": [],
   "source": [],
   "metadata": {
    "collapsed": false,
    "ExecuteTime": {
     "start_time": "2024-03-04T11:24:40.282964Z"
    }
   },
   "id": "1714d3694b81130c"
  },
  {
   "cell_type": "code",
   "execution_count": null,
   "outputs": [],
   "source": [],
   "metadata": {
    "collapsed": false,
    "ExecuteTime": {
     "start_time": "2024-03-04T11:24:40.283821Z"
    }
   },
   "id": "78a8967d65918d6d"
  }
 ],
 "metadata": {
  "kernelspec": {
   "display_name": "Python 3",
   "language": "python",
   "name": "python3"
  },
  "language_info": {
   "codemirror_mode": {
    "name": "ipython",
    "version": 2
   },
   "file_extension": ".py",
   "mimetype": "text/x-python",
   "name": "python",
   "nbconvert_exporter": "python",
   "pygments_lexer": "ipython2",
   "version": "2.7.6"
  }
 },
 "nbformat": 4,
 "nbformat_minor": 5
}
