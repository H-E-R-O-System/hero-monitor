{
 "cells": [
  {
   "cell_type": "code",
   "execution_count": 7,
   "id": "initial_id",
   "metadata": {
    "collapsed": true,
    "ExecuteTime": {
     "end_time": "2024-03-03T11:24:32.278997Z",
     "start_time": "2024-03-03T11:24:32.274739Z"
    }
   },
   "outputs": [],
   "source": [
    "import time\n",
    "\n",
    "import matplotlib.pyplot as plt\n",
    "import keras\n",
    "import os\n",
    "from scipy.special import softmax"
   ]
  },
  {
   "cell_type": "code",
   "execution_count": 8,
   "outputs": [],
   "source": [
    "plt.rcParams[\"font.family\"] = \"serif\"\n",
    "plt.rcParams[\"font.serif\"] = [\"Times New Roman\"]"
   ],
   "metadata": {
    "collapsed": false,
    "ExecuteTime": {
     "end_time": "2024-03-03T11:24:32.279170Z",
     "start_time": "2024-03-03T11:24:32.277053Z"
    }
   },
   "id": "65582d6ade2cb950"
  },
  {
   "cell_type": "code",
   "execution_count": 9,
   "outputs": [
    {
     "name": "stderr",
     "output_type": "stream",
     "text": [
      "/Users/benhoskings/Documents/Pycharm/Hero_Monitor/venv/lib/python3.10/site-packages/keras/src/saving/saving_lib.py:394: UserWarning: Skipping variable loading for optimizer 'adam', because it has 354 variables whereas the saved optimizer has 28 variables. \n",
      "  trackable.load_own_variables(weights_store.get(inner_path))\n"
     ]
    }
   ],
   "source": [
    "affective_model = keras.models.load_model(\"../models/AffectInceptionResNetV3.keras\")"
   ],
   "metadata": {
    "collapsed": false,
    "ExecuteTime": {
     "end_time": "2024-03-03T11:24:33.287457Z",
     "start_time": "2024-03-03T11:24:32.278704Z"
    }
   },
   "id": "a87a90111a973c4a"
  },
  {
   "cell_type": "code",
   "execution_count": 12,
   "outputs": [
    {
     "name": "stdout",
     "output_type": "stream",
     "text": [
      "Found 235695 files belonging to 3 classes.\n",
      "Found 1500 files belonging to 3 classes.\n"
     ]
    }
   ],
   "source": [
    "base_path_structured = \"/Users/benhoskings/Documents/Datasets/FusionV2\"\n",
    "train_path_structured = os.path.join(base_path_structured, \"train_set\")\n",
    "\n",
    "class_names = [\"Negative\", \"Neutral\", \"Positive\"]\n",
    "# class_names = [\"Anger\", \"Disgust\", \"Happy\", \"Neutral\", \"Fear\", \"Sad\", \"Surprise\"]\n",
    "batch_size = 128\n",
    "image_shape = (224, 224, 3)\n",
    "\n",
    "train_ds = keras.utils.image_dataset_from_directory(\n",
    "    train_path_structured, \n",
    "    class_names=class_names,\n",
    "    label_mode=\"categorical\", \n",
    "    labels=\"inferred\",\n",
    "    batch_size=batch_size,\n",
    "    image_size=image_shape[0:2],\n",
    "    seed=101)\n",
    "\n",
    "val_ds = keras.utils.image_dataset_from_directory(\n",
    "    os.path.join(base_path_structured, \"val_set\"), \n",
    "    class_names=class_names,\n",
    "    label_mode=\"categorical\", \n",
    "    labels=\"inferred\",\n",
    "    batch_size=128,\n",
    "    image_size=image_shape[0:2],\n",
    "    seed=101, \n",
    "    shuffle=False)"
   ],
   "metadata": {
    "collapsed": false,
    "ExecuteTime": {
     "end_time": "2024-03-03T11:24:51.499956Z",
     "start_time": "2024-03-03T11:24:47.710315Z"
    }
   },
   "id": "56dbc23232a386d6"
  },
  {
   "cell_type": "code",
   "execution_count": 13,
   "outputs": [
    {
     "name": "stdout",
     "output_type": "stream",
     "text": [
      "Evaluate\n",
      "\u001B[1m12/12\u001B[0m \u001B[32m━━━━━━━━━━━━━━━━━━━━\u001B[0m\u001B[37m\u001B[0m \u001B[1m20s\u001B[0m 2s/step\n",
      "Avg prediction time: 0.013354864444001578s\n"
     ]
    }
   ],
   "source": [
    "print(\"Evaluate\")\n",
    "# result = affective_model.evaluate(val_ds)\n",
    "# print(dict(zip(affective_model.metrics_names, result)))\n",
    "start = time.monotonic()\n",
    "predictions = affective_model.predict(val_ds)\n",
    "print(f\"Avg prediction time: {(time.monotonic() - start) / 1500}s\")"
   ],
   "metadata": {
    "collapsed": false,
    "ExecuteTime": {
     "end_time": "2024-03-03T11:25:11.535430Z",
     "start_time": "2024-03-03T11:24:51.500927Z"
    }
   },
   "id": "4c087a8c434ce689"
  },
  {
   "cell_type": "code",
   "execution_count": 14,
   "outputs": [
    {
     "name": "stdout",
     "output_type": "stream",
     "text": [
      "[1 1 0 ... 1 2 2]\n",
      "[0 0 0 ... 2 2 2]\n"
     ]
    }
   ],
   "source": [
    "from sklearn.metrics import confusion_matrix\n",
    "import numpy as np\n",
    "\n",
    "pred_classes = np.argmax(predictions, axis=1)\n",
    "print(pred_classes)\n",
    "true_categories = np.concatenate([y for x, y in val_ds], axis=0)\n",
    "print(np.argmax(true_categories, axis=1))"
   ],
   "metadata": {
    "collapsed": false,
    "ExecuteTime": {
     "end_time": "2024-03-03T11:25:15.611414Z",
     "start_time": "2024-03-03T11:25:15.463549Z"
    }
   },
   "id": "62db9cd835478b6a"
  },
  {
   "cell_type": "code",
   "execution_count": 15,
   "outputs": [],
   "source": [
    "# font_dict={'size': 20, 'color': 'black', \"family\": \"serif\", \"name\": \"Times New Roman\"}\n",
    "# cm = confusion_matrix(y_true=np.argmax(true_categories, axis=1), y_pred=pred_classes)\n",
    "# fig = plt.figure(figsize = (8,8))\n",
    "# ax1 = fig.add_subplot(1,1,1)\n",
    "# seaborn.set(font_scale=1.4) #for label size\n",
    "# seaborn.heatmap(cm, annot=True, annot_kws={\"size\": 12}, cbar = False, cmap='Blues', fmt='d')\n",
    "# ax1.set_yticklabels(class_names, fontdict=font_dict)\n",
    "# ax1.set_xticklabels(class_names, fontdict=font_dict)\n",
    "# # ax1.set_ylabel('True Values', fontdict=font_dict)\n",
    "# # ax1.set_xlabel('Predicted Values',fontsize=14)\n",
    "# \n",
    "# plt.savefig(\"confusion_matrix.png\", bbox_inches='tight')\n",
    "# plt.show()"
   ],
   "metadata": {
    "collapsed": false,
    "ExecuteTime": {
     "end_time": "2024-03-03T11:25:23.330803Z",
     "start_time": "2024-03-03T11:25:23.326662Z"
    }
   },
   "id": "91e2e38425df6f10"
  },
  {
   "cell_type": "code",
   "execution_count": 26,
   "outputs": [
    {
     "name": "stdout",
     "output_type": "stream",
     "text": [
      "[[ 0.05540758 -0.19814801 -3.9259157 ]]\n",
      "[[0.557197   0.43240523 0.01039781]]\n"
     ]
    },
    {
     "ename": "TypeError",
     "evalue": "only integer scalar arrays can be converted to a scalar index",
     "output_type": "error",
     "traceback": [
      "\u001B[0;31m---------------------------------------------------------------------------\u001B[0m",
      "\u001B[0;31mTypeError\u001B[0m                                 Traceback (most recent call last)",
      "Cell \u001B[0;32mIn[26], line 10\u001B[0m\n\u001B[1;32m      7\u001B[0m \u001B[38;5;28mprint\u001B[39m(predictions)\n\u001B[1;32m      8\u001B[0m \u001B[38;5;28mprint\u001B[39m(softmax(predictions, axis\u001B[38;5;241m=\u001B[39m\u001B[38;5;241m1\u001B[39m))\n\u001B[1;32m      9\u001B[0m \u001B[38;5;28mprint\u001B[39m(\u001B[38;5;124m\"\u001B[39m\u001B[38;5;124mThis image most likely belongs to \u001B[39m\u001B[38;5;132;01m{}\u001B[39;00m\u001B[38;5;124m with a \u001B[39m\u001B[38;5;132;01m{:.2f}\u001B[39;00m\u001B[38;5;124m percent confidence.\u001B[39m\u001B[38;5;124m\"\u001B[39m\n\u001B[0;32m---> 10\u001B[0m     \u001B[38;5;241m.\u001B[39mformat(\u001B[43mclass_names\u001B[49m\u001B[43m[\u001B[49m\u001B[43mnp\u001B[49m\u001B[38;5;241;43m.\u001B[39;49m\u001B[43margmax\u001B[49m\u001B[43m(\u001B[49m\u001B[43mpredictions\u001B[49m\u001B[43m,\u001B[49m\u001B[43m \u001B[49m\u001B[43maxis\u001B[49m\u001B[38;5;241;43m=\u001B[39;49m\u001B[38;5;241;43m1\u001B[39;49m\u001B[43m)\u001B[49m\u001B[43m]\u001B[49m, \u001B[38;5;241m100\u001B[39m \u001B[38;5;241m*\u001B[39m np\u001B[38;5;241m.\u001B[39mmax(softmax(predictions, axis\u001B[38;5;241m=\u001B[39m\u001B[38;5;241m1\u001B[39m)))\n\u001B[1;32m     11\u001B[0m )\n",
      "\u001B[0;31mTypeError\u001B[0m: only integer scalar arrays can be converted to a scalar index"
     ]
    }
   ],
   "source": [
    "img = keras.utils.load_img(\"../data/affective_images/question_0/images/im_0.png\", target_size=image_shape[:2])\n",
    "\n",
    "img_array = keras.utils.img_to_array(img)\n",
    "img_array = np.expand_dims(img_array, 0) # Create a batch\n",
    "\n",
    "predictions = affective_model.predict(img_array, verbose=0)\n",
    "print(predictions)\n",
    "print(softmax(predictions, axis=1))\n",
    "print(\"This image most likely belongs to {} with a {:.2f} percent confidence.\"\n",
    "    .format(class_names[np.argmax(predictions)], 100 * np.max(softmax(predictions, axis=1)))\n",
    ")"
   ],
   "metadata": {
    "collapsed": false,
    "ExecuteTime": {
     "end_time": "2024-03-03T11:34:16.466855Z",
     "start_time": "2024-03-03T11:34:16.386143Z"
    }
   },
   "id": "8a1f6b2d3c4dd365"
  },
  {
   "cell_type": "code",
   "execution_count": null,
   "outputs": [],
   "source": [
    "fig = plt.figure(figsize=(16, 14))\n",
    "\n",
    "val_ds = keras.utils.image_dataset_from_directory(\n",
    "    os.path.join(base_path_structured, \"val_set\"), \n",
    "    class_names=class_names,\n",
    "    label_mode=\"categorical\", \n",
    "    labels=\"inferred\",\n",
    "    batch_size=batch_size,\n",
    "    image_size=image_shape[0:2],\n",
    "    seed=101, \n",
    "    shuffle=True)\n",
    "\n",
    "# fig, axes = plt.subplots(nrows=4, ncols=4, figsize=(8, 8))\n",
    "plt.tight_layout() # Or equivalently,  \"plt.tight_layout()\"\n",
    "\n",
    "for images, labels in val_ds.take(1):\n",
    "    for i in range(16):\n",
    "        ax = plt.subplot(4, 4, i + 1)\n",
    "        image = images[i+64].numpy().astype(\"uint8\")\n",
    "        img_array = keras.utils.img_to_array(image)\n",
    "        img_array = np.expand_dims(img_array, 0) # Create a batch\n",
    "\n",
    "        plt.imshow(image)\n",
    "        predictions = affective_model.predict(img_array, verbose=0)\n",
    "        plt.title(f\"{class_names[np.argmax(predictions)]} ({np.round(100*np.max(softmax(predictions)), 2)}%)\")\n",
    "        plt.axis(\"off\")\n",
    "        \n",
    "# plt.subplots_adjust(bottom=0.1, right=0.8, top=0.9)\n",
    "plt.savefig(\"affective_predictions.png\", bbox_inches='tight')"
   ],
   "metadata": {
    "collapsed": false,
    "ExecuteTime": {
     "start_time": "2024-03-03T11:24:46.739965Z"
    }
   },
   "id": "69ba846b4ecef8d5"
  },
  {
   "cell_type": "code",
   "execution_count": null,
   "outputs": [],
   "source": [],
   "metadata": {
    "collapsed": false,
    "ExecuteTime": {
     "start_time": "2024-03-03T11:24:46.740789Z"
    }
   },
   "id": "1714d3694b81130c"
  },
  {
   "cell_type": "code",
   "execution_count": null,
   "outputs": [],
   "source": [],
   "metadata": {
    "collapsed": false,
    "ExecuteTime": {
     "end_time": "2024-03-03T11:24:46.742260Z",
     "start_time": "2024-03-03T11:24:46.741635Z"
    }
   },
   "id": "78a8967d65918d6d"
  }
 ],
 "metadata": {
  "kernelspec": {
   "display_name": "Python 3",
   "language": "python",
   "name": "python3"
  },
  "language_info": {
   "codemirror_mode": {
    "name": "ipython",
    "version": 2
   },
   "file_extension": ".py",
   "mimetype": "text/x-python",
   "name": "python",
   "nbconvert_exporter": "python",
   "pygments_lexer": "ipython2",
   "version": "2.7.6"
  }
 },
 "nbformat": 4,
 "nbformat_minor": 5
}
