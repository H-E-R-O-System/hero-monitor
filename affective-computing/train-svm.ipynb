{
 "cells": [
  {
   "cell_type": "code",
   "execution_count": 1,
   "outputs": [],
   "source": [
    "import numpy as np\n",
    "from scipy.io import loadmat\n",
    "from sklearn import svm\n",
    "from joblib import dump, load"
   ],
   "metadata": {
    "collapsed": false,
    "ExecuteTime": {
     "end_time": "2023-11-12T17:07:44.568359Z",
     "start_time": "2023-11-12T17:07:44.142691Z"
    }
   },
   "id": "e1bf6f2d7b37467e"
  },
  {
   "cell_type": "code",
   "execution_count": 2,
   "outputs": [],
   "source": [
    "train_data = loadmat(\"Training_Data.mat\")\n",
    "net_data = train_data[\"net_data\"]\n",
    "shape_data = train_data[\"shape_data\"]\n",
    "action_data = train_data[\"blend_data\"]\n",
    "labels = train_data[\"labels\"]"
   ],
   "metadata": {
    "collapsed": false,
    "ExecuteTime": {
     "end_time": "2023-11-12T17:07:44.576517Z",
     "start_time": "2023-11-12T17:07:44.570120Z"
    }
   },
   "id": "d4f3fc1b46fcabe6"
  },
  {
   "cell_type": "code",
   "execution_count": 3,
   "outputs": [],
   "source": [
    "# ids = np.logical_not(np.isnan(labels)).flatten()\n",
    "fuse_data = np.concatenate([shape_data, action_data, net_data], axis=1)\n",
    "# fuse_data = fuse_data[ids, :]\n",
    "# labels = labels[ids, :]"
   ],
   "metadata": {
    "collapsed": false,
    "ExecuteTime": {
     "end_time": "2023-11-12T17:07:44.580481Z",
     "start_time": "2023-11-12T17:07:44.577201Z"
    }
   },
   "id": "initial_id"
  },
  {
   "cell_type": "code",
   "execution_count": 10,
   "outputs": [
    {
     "name": "stdout",
     "output_type": "stream",
     "text": [
      "[LibSVM]...\n",
      "Warning: using -h 0 may be faster\n",
      "*\n",
      "optimization finished, #iter = 3842\n",
      "obj = -6304.757605, rho = -0.999473\n",
      "nSV = 6729, nBSV = 6720\n",
      "....\n",
      "Warning: using -h 0 may be faster\n",
      "*\n",
      "optimization finished, #iter = 4088\n",
      "obj = -6534.351446, rho = -0.247946\n",
      "nSV = 6582, nBSV = 6572\n",
      "...\n",
      "Warning: using -h 0 may be faster\n",
      "*.\n",
      "Warning: using -h 0 may be faster\n",
      "*\n",
      "optimization finished, #iter = 4026\n",
      "obj = -6970.766785, rho = 0.467540\n",
      "nSV = 7054, nBSV = 7045\n",
      "..\n",
      "Warning: using -h 0 may be faster\n",
      "*\n",
      "optimization finished, #iter = 2886\n",
      "obj = -4399.347506, rho = 0.002529\n",
      "nSV = 4600, nBSV = 4591\n",
      "...\n",
      "Warning: using -h 0 may be faster\n",
      "*\n",
      "optimization finished, #iter = 3785\n",
      "obj = -6523.856386, rho = -0.223510\n",
      "nSV = 6701, nBSV = 6690\n",
      "...\n",
      "Warning: using -h 0 may be faster\n",
      "*\n",
      "optimization finished, #iter = 3743\n",
      "obj = -7142.522293, rho = -0.163640\n",
      "nSV = 7337, nBSV = 7327\n",
      "....\n",
      "Warning: using -h 0 may be faster\n",
      "*.\n",
      "Warning: using -h 0 may be faster\n",
      "*\n",
      "optimization finished, #iter = 4291\n",
      "obj = -6872.754418, rho = 0.190171\n",
      "nSV = 6923, nBSV = 6913\n",
      "...\n",
      "Warning: using -h 0 may be faster\n",
      "*.\n",
      "Warning: using -h 0 may be faster\n",
      "*\n",
      "optimization finished, #iter = 3801\n",
      "obj = -6199.002822, rho = 3.211109\n",
      "nSV = 6877, nBSV = 6873\n",
      "...\n",
      "Warning: using -h 0 may be faster\n",
      "*.\n",
      "Warning: using -h 0 may be faster\n",
      "*\n",
      "optimization finished, #iter = 3646\n",
      "obj = -6080.451463, rho = 3.067969\n",
      "nSV = 6812, nBSV = 6803\n",
      "...\n",
      "Warning: using -h 0 may be faster\n",
      "*.\n",
      "Warning: using -h 0 may be faster\n",
      "*\n",
      "optimization finished, #iter = 3273\n",
      "obj = -4941.357334, rho = 4.972523\n",
      "nSV = 5068, nBSV = 5065\n",
      "...\n",
      "Warning: using -h 0 may be faster\n",
      "*\n",
      "optimization finished, #iter = 3746\n",
      "obj = -6073.270422, rho = 0.436020\n",
      "nSV = 6150, nBSV = 6137\n",
      "...\n",
      "Warning: using -h 0 may be faster\n",
      "*.\n",
      "Warning: using -h 0 may be faster\n",
      "*.\n",
      "Warning: using -h 0 may be faster\n",
      "*.\n",
      "Warning: using -h 0 may be faster\n",
      "*\n",
      "optimization finished, #iter = 4528\n",
      "obj = -6790.829478, rho = 0.941439\n",
      "nSV = 6934, nBSV = 6927\n",
      "...\n",
      "Warning: using -h 0 may be faster\n",
      "**.\n",
      "Warning: using -h 0 may be faster\n",
      "*\n",
      "optimization finished, #iter = 3602\n",
      "obj = -5685.365309, rho = 3.116583\n",
      "nSV = 6096, nBSV = 6091\n",
      "....\n",
      "Warning: using -h 0 may be faster\n",
      "*.\n",
      "Warning: using -h 0 may be faster\n",
      "*.\n",
      "Warning: using -h 0 may be faster\n",
      "*\n",
      "optimization finished, #iter = 4393\n",
      "obj = -6997.874719, rho = 0.303271\n",
      "nSV = 7031, nBSV = 7023\n",
      "...\n",
      "Warning: using -h 0 may be faster\n",
      "*.\n",
      "Warning: using -h 0 may be faster\n",
      "*\n",
      "optimization finished, #iter = 3310\n",
      "obj = -5251.956437, rho = 2.710010\n",
      "nSV = 5564, nBSV = 5560\n",
      "...\n",
      "Warning: using -h 0 may be faster\n",
      "*.\n",
      "Warning: using -h 0 may be faster\n",
      "*\n",
      "optimization finished, #iter = 3383\n",
      "obj = -5351.481616, rho = 0.100668\n",
      "nSV = 5644, nBSV = 5630\n",
      "...\n",
      "Warning: using -h 0 may be faster\n",
      "*\n",
      "optimization finished, #iter = 3752\n",
      "obj = -6330.621306, rho = 0.021297\n",
      "nSV = 6529, nBSV = 6519\n",
      "...\n",
      "Warning: using -h 0 may be faster\n",
      "*.\n",
      "Warning: using -h 0 may be faster\n",
      "*\n",
      "optimization finished, #iter = 3808\n",
      "obj = -6023.473582, rho = 0.327767\n",
      "nSV = 6063, nBSV = 6049\n",
      "...\n",
      "Warning: using -h 0 may be faster\n",
      "*\n",
      "optimization finished, #iter = 3210\n",
      "obj = -4845.342012, rho = 0.109197\n",
      "nSV = 5143, nBSV = 5133\n",
      "...\n",
      "Warning: using -h 0 may be faster\n",
      "*.\n",
      "Warning: using -h 0 may be faster\n",
      "*\n",
      "optimization finished, #iter = 3757\n",
      "obj = -5847.316186, rho = -0.116034\n",
      "nSV = 6163, nBSV = 6150\n",
      "...\n",
      "Warning: using -h 0 may be faster\n",
      "*\n",
      "optimization finished, #iter = 3785\n",
      "obj = -6661.582043, rho = -0.800476\n",
      "nSV = 6931, nBSV = 6923\n",
      "...\n",
      "Warning: using -h 0 may be faster\n",
      "*\n",
      "optimization finished, #iter = 3845\n",
      "obj = -6590.290698, rho = 0.018293\n",
      "nSV = 6625, nBSV = 6614\n",
      "..\n",
      "Warning: using -h 0 may be faster\n",
      "*\n",
      "optimization finished, #iter = 2320\n",
      "obj = -3631.803567, rho = -0.279404\n",
      "nSV = 3743, nBSV = 3731\n",
      "..\n",
      "Warning: using -h 0 may be faster\n",
      "*.\n",
      "Warning: using -h 0 may be faster\n",
      "*\n",
      "optimization finished, #iter = 3011\n",
      "obj = -4597.112574, rho = -0.555095\n",
      "nSV = 4693, nBSV = 4679\n",
      "..\n",
      "Warning: using -h 0 may be faster\n",
      "*\n",
      "optimization finished, #iter = 2720\n",
      "obj = -4059.950111, rho = 0.098529\n",
      "nSV = 4214, nBSV = 4204\n",
      "....\n",
      "Warning: using -h 0 may be faster\n",
      "*\n",
      "optimization finished, #iter = 4156\n",
      "obj = -6742.675848, rho = 0.147142\n",
      "nSV = 6818, nBSV = 6806\n",
      "...\n",
      "Warning: using -h 0 may be faster\n",
      "*\n",
      "optimization finished, #iter = 3854\n",
      "obj = -6414.515033, rho = 0.754488\n",
      "nSV = 6803, nBSV = 6792\n",
      "...\n",
      "Warning: using -h 0 may be faster\n",
      "*.\n",
      "Warning: using -h 0 may be faster\n",
      "*\n",
      "optimization finished, #iter = 3906\n",
      "obj = -6603.548187, rho = 0.580152\n",
      "nSV = 6809, nBSV = 6797\n",
      "Total nSV = 28711\n"
     ]
    },
    {
     "data": {
      "text/plain": "array([0., 1., 2., 3., 4., 5., 6., 7.])"
     },
     "execution_count": 10,
     "metadata": {},
     "output_type": "execute_result"
    }
   ],
   "source": [
    "clf = svm.SVC(decision_function_shape='ovo', shrinking=True)\n",
    "clf.fit(fuse_data, labels.flatten())\n"
   ],
   "metadata": {
    "collapsed": false,
    "ExecuteTime": {
     "end_time": "2023-11-12T17:11:05.426691Z",
     "start_time": "2023-11-12T17:10:03.572465Z"
    }
   },
   "id": "acf46330bc8aba6a"
  },
  {
   "cell_type": "code",
   "execution_count": 5,
   "outputs": [
    {
     "data": {
      "text/plain": "['AffectSVM.joblib']"
     },
     "execution_count": 5,
     "metadata": {},
     "output_type": "execute_result"
    }
   ],
   "source": [
    "dump(clf, 'AffectSVM.joblib') "
   ],
   "metadata": {
    "collapsed": false,
    "ExecuteTime": {
     "end_time": "2023-11-12T17:08:48.217228Z",
     "start_time": "2023-11-12T17:08:48.203901Z"
    }
   },
   "id": "2ec78fffe05a8893"
  },
  {
   "cell_type": "code",
   "execution_count": 31,
   "outputs": [
    {
     "name": "stdout",
     "output_type": "stream",
     "text": [
      "0.0 [1.]\n"
     ]
    }
   ],
   "source": [
    "# classes are 0-7\n",
    "sample = 115\n",
    "print(labels[0, sample], clf.predict(np.expand_dims(fuse_data[sample, :], axis=0)) )"
   ],
   "metadata": {
    "collapsed": false,
    "ExecuteTime": {
     "end_time": "2023-11-12T17:16:37.544934Z",
     "start_time": "2023-11-12T17:16:37.533877Z"
    }
   },
   "id": "de3ad6d741fd0755"
  },
  {
   "cell_type": "code",
   "execution_count": 34,
   "outputs": [
    {
     "name": "stdout",
     "output_type": "stream",
     "text": [
      "[7 0 0 ... 3 3 2]\n"
     ]
    },
    {
     "data": {
      "text/plain": "0.45169195649254734"
     },
     "execution_count": 34,
     "metadata": {},
     "output_type": "execute_result"
    }
   ],
   "source": [
    "pred = np.argmax(net_data, axis=1)\n",
    "np.mean(pred == labels)"
   ],
   "metadata": {
    "collapsed": false,
    "ExecuteTime": {
     "end_time": "2023-11-12T17:19:02.486580Z",
     "start_time": "2023-11-12T17:19:02.481585Z"
    }
   },
   "id": "3bdf10fced4d4f0c"
  },
  {
   "cell_type": "code",
   "execution_count": null,
   "outputs": [],
   "source": [],
   "metadata": {
    "collapsed": false
   },
   "id": "47dd1a26ddaa8084"
  }
 ],
 "metadata": {
  "kernelspec": {
   "display_name": "Python 3",
   "language": "python",
   "name": "python3"
  },
  "language_info": {
   "codemirror_mode": {
    "name": "ipython",
    "version": 2
   },
   "file_extension": ".py",
   "mimetype": "text/x-python",
   "name": "python",
   "nbconvert_exporter": "python",
   "pygments_lexer": "ipython2",
   "version": "2.7.6"
  }
 },
 "nbformat": 4,
 "nbformat_minor": 5
}
