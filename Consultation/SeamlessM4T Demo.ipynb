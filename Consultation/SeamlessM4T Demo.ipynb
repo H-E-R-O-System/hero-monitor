{
 "cells": [
  {
   "cell_type": "code",
   "execution_count": 17,
   "id": "initial_id",
   "metadata": {
    "collapsed": true,
    "ExecuteTime": {
     "end_time": "2023-11-06T22:29:48.846590Z",
     "start_time": "2023-11-06T22:29:48.844656Z"
    }
   },
   "outputs": [],
   "source": [
    "from transformers import AutoProcessor, SeamlessM4TModel, SeamlessM4TForTextToSpeech\n",
    "from scipy.io.wavfile import write\n",
    "import numpy as np\n",
    "import pygame"
   ]
  },
  {
   "cell_type": "code",
   "execution_count": 18,
   "outputs": [
    {
     "name": "stderr",
     "output_type": "stream",
     "text": [
      "Special tokens have been added in the vocabulary, make sure the associated word embeddings are fine-tuned or trained.\n",
      "Special tokens have been added in the vocabulary, make sure the associated word embeddings are fine-tuned or trained.\n"
     ]
    }
   ],
   "source": [
    "pygame.mixer.init(16000, -16, 1)\n",
    "processor = AutoProcessor.from_pretrained(\"facebook/hf-seamless-m4t-medium\")\n",
    "model = SeamlessM4TModel.from_pretrained(\"facebook/hf-seamless-m4t-medium\")\n",
    "model2 = SeamlessM4TForTextToSpeech.from_pretrained(\"facebook/hf-seamless-m4t-medium\")"
   ],
   "metadata": {
    "collapsed": false,
    "ExecuteTime": {
     "end_time": "2023-11-06T22:30:14.383421Z",
     "start_time": "2023-11-06T22:29:50.029291Z"
    }
   },
   "id": "28e93964801f87f0"
  },
  {
   "cell_type": "code",
   "execution_count": 7,
   "outputs": [],
   "source": [
    "text_to_speak = f\"How are you feeling today?\"\n",
    "text_inputs = processor(text = text_to_speak, src_lang=\"eng\", return_tensors=\"pt\")\n",
    "audio_array_from_text = model.generate(**text_inputs, tgt_lang=\"eng\")[0].cpu().numpy().squeeze()"
   ],
   "metadata": {
    "collapsed": false,
    "ExecuteTime": {
     "end_time": "2023-11-06T21:56:41.692902Z",
     "start_time": "2023-11-06T21:56:40.093083Z"
    }
   },
   "id": "3137216724b525b3"
  },
  {
   "cell_type": "code",
   "execution_count": 15,
   "outputs": [
    {
     "name": "stdout",
     "output_type": "stream",
     "text": [
      "8\n",
      "16000 -16\n"
     ]
    },
    {
     "data": {
      "text/plain": "<pygame.mixer.Channel at 0x1574efb30>"
     },
     "execution_count": 15,
     "metadata": {},
     "output_type": "execute_result"
    }
   ],
   "source": [
    "pygame.mixer.quit()\n",
    "pygame.mixer.init(16000, -16, 1)\n",
    "num_channels = pygame.mixer.get_num_channels()\n",
    "print(num_channels)\n",
    "freq, size, _ = pygame.mixer.get_init()\n",
    "print(freq, size)\n",
    "\n",
    "int_sound = np.int16(audio_array_from_text / min(abs(audio_array_from_text)))\n",
    "sound = pygame.sndarray.make_sound(int_sound)\n",
    "sound.play()"
   ],
   "metadata": {
    "collapsed": false,
    "ExecuteTime": {
     "end_time": "2023-11-06T21:59:13.645814Z",
     "start_time": "2023-11-06T21:59:13.531061Z"
    }
   },
   "id": "ac3b031a017bec0a"
  },
  {
   "cell_type": "code",
   "execution_count": null,
   "outputs": [],
   "source": [
    "write(\"test.wav\", 16000, audio_array_from_text)\n",
    "write(\"Test_2.wav\", 16000, np.int32(audio_array_from_text/ min(abs(audio_array_from_text))))\n"
   ],
   "metadata": {
    "collapsed": false,
    "ExecuteTime": {
     "start_time": "2023-11-06T21:56:41.702613Z"
    }
   },
   "id": "cf422ffb3c91edb6"
  },
  {
   "cell_type": "code",
   "execution_count": null,
   "outputs": [],
   "source": [
    "\n",
    "\n",
    "\n",
    "pygame.mixer.music.load(\"test.wav\")\n",
    "pygame.mixer.music.play()"
   ],
   "metadata": {
    "collapsed": false,
    "ExecuteTime": {
     "start_time": "2023-11-06T21:56:41.703612Z"
    }
   },
   "id": "40dfbe34fe9a5f65"
  },
  {
   "cell_type": "code",
   "execution_count": null,
   "outputs": [],
   "source": [
    "import pyaudio\n",
    "import wave\n",
    "\n",
    "\n",
    "def record_answer(max_time = 10):\n",
    "    p = pyaudio.PyAudio()\n",
    "\n",
    "    stream = p.open(format=pyaudio.paInt16,\n",
    "                    channels=1,\n",
    "                    rate=16000,\n",
    "                    input=True,\n",
    "                    frames_per_buffer=1024)\n",
    "    \n",
    "    frames = []\n",
    "    print(\"* recording\")\n",
    "    for i in range(0, int(RATE / CHUNK * RECORD_SECONDS)):\n",
    "        data = stream.read(CHUNK)\n",
    "        frames.append(data)\n",
    "    \n",
    "    print(\"* done recording\")"
   ],
   "metadata": {
    "collapsed": false
   },
   "id": "5d306e316c44763d"
  },
  {
   "cell_type": "code",
   "execution_count": 2,
   "outputs": [
    {
     "name": "stdout",
     "output_type": "stream",
     "text": [
      "* recording\n",
      "* done recording\n"
     ]
    }
   ],
   "source": [
    "CHUNK = 1024\n",
    "FORMAT = pyaudio.paInt16\n",
    "CHANNELS = 1\n",
    "RATE = 16000\n",
    "RECORD_SECONDS = 5\n",
    "WAVE_OUTPUT_FILENAME = \"voice.wav\"\n",
    "\n",
    "p = pyaudio.PyAudio()\n",
    "\n",
    "stream = p.open(format=FORMAT,\n",
    "                channels=CHANNELS,\n",
    "                rate=RATE,\n",
    "                input=True,\n",
    "                frames_per_buffer=CHUNK)\n",
    "\n",
    "print(\"* recording\")\n",
    "\n",
    "frames = []\n",
    "\n",
    "for i in range(0, int(RATE / CHUNK * RECORD_SECONDS)):\n",
    "    data = stream.read(CHUNK)\n",
    "    frames.append(data)\n",
    "\n",
    "print(\"* done recording\")\n",
    "\n",
    "stream.stop_stream()\n",
    "stream.close()\n",
    "p.terminate()\n",
    "\n",
    "wf = wave.open(WAVE_OUTPUT_FILENAME, 'wb')\n",
    "wf.setnchannels(CHANNELS)\n",
    "wf.setsampwidth(p.get_sample_size(FORMAT))\n",
    "wf.setframerate(RATE)\n",
    "wf.writeframes(b''.join(frames))\n",
    "wf.close()"
   ],
   "metadata": {
    "collapsed": false,
    "ExecuteTime": {
     "start_time": "2023-11-06T22:52:39.556313Z"
    }
   },
   "id": "908df26f417d9f9f"
  },
  {
   "cell_type": "code",
   "execution_count": null,
   "outputs": [],
   "source": [],
   "metadata": {
    "collapsed": false
   },
   "id": "6db32590858fed84"
  }
 ],
 "metadata": {
  "kernelspec": {
   "display_name": "Python 3",
   "language": "python",
   "name": "python3"
  },
  "language_info": {
   "codemirror_mode": {
    "name": "ipython",
    "version": 2
   },
   "file_extension": ".py",
   "mimetype": "text/x-python",
   "name": "python",
   "nbconvert_exporter": "python",
   "pygments_lexer": "ipython2",
   "version": "2.7.6"
  }
 },
 "nbformat": 4,
 "nbformat_minor": 5
}
