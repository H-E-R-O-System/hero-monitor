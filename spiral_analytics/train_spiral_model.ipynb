{
 "cells": [
  {
   "cell_type": "code",
   "execution_count": 100,
   "id": "initial_id",
   "metadata": {
    "collapsed": true,
    "ExecuteTime": {
     "end_time": "2024-03-01T00:54:15.848991Z",
     "start_time": "2024-03-01T00:54:15.841652Z"
    }
   },
   "outputs": [],
   "source": [
    "import pandas as pd\n",
    "import numpy as np\n",
    "import joblib\n",
    "import os \n",
    "from sklearn.linear_model import LinearRegression\n",
    "\n",
    "np.random.seed(100)\n",
    "os.chdir(\"/Users/benhoskings/Documents/Pycharm/Hero_Monitor/spiral_analytics\")"
   ]
  },
  {
   "cell_type": "code",
   "execution_count": 101,
   "outputs": [],
   "source": [
    "def drop_cols(df):\n",
    "    \n",
    "    return df.drop([\"z_pos\", \"pressure\", \"grip_angle\", \"test_id\"], axis=1)\n",
    "    \n",
    "def augment_data(input_data, spiral_radius):\n",
    "    data_aug = input_data.assign(\n",
    "        x_pos = (input_data[\"x_pos\"] - spiral_radius) / spiral_radius, \n",
    "        y_pos = (input_data[\"y_pos\"] - spiral_radius) / spiral_radius\n",
    "    )\n",
    "    data_aug = data_aug.assign(\n",
    "        time = (data_aug[\"time\"] - data_aug.loc[0, \"time\"]) / 1000,\n",
    "        magnitude=np.linalg.norm(data_aug[[\"x_pos\", \"y_pos\"]], axis=1), \n",
    "        theta=np.arctan2(data_aug[\"y_pos\"], data_aug[\"x_pos\"])\n",
    "    )\n",
    "    \n",
    "    data_aug = data_aug.assign(\n",
    "        distance = data_aug[\"magnitude\"].diff(),\n",
    "        angular_velocity = data_aug[\"theta\"].diff() / data_aug[\"time\"].diff()\n",
    "    )\n",
    "    turn_count = 0\n",
    "    turns = np.array([])\n",
    "    for row_idx in data_aug.index:\n",
    "        if data_aug.loc[row_idx, \"angular_velocity\"] > np.pi*2:\n",
    "            turn_count += 1\n",
    "            \n",
    "        turns = np.append(turns, turn_count)\n",
    "            \n",
    "    data_aug = data_aug.assign(\n",
    "        turns = turns,\n",
    "        theta = data_aug[\"theta\"] + turns * 2 * np.pi\n",
    "    )\n",
    "    \n",
    "    data_aug = data_aug.assign(\n",
    "        angular_velocity = data_aug[\"theta\"].diff() / data_aug[\"time\"].diff()\n",
    "    )\n",
    "    return data_aug\n",
    "\n",
    "def create_feature(spiral_data):\n",
    "    spiral_data: pd.DataFrame\n",
    "    mean_values = np.mean(spiral_data, axis=0)\n",
    "    sum_values = np.sum(spiral_data, axis=0)\n",
    "    rms_vals = np.sqrt(np.mean(spiral_data**2, axis=0))\n",
    "    \n",
    "    return np.array(np.concatenate([mean_values.values, sum_values.values, rms_vals.values]))"
   ],
   "metadata": {
    "collapsed": false,
    "ExecuteTime": {
     "end_time": "2024-03-01T00:54:15.859309Z",
     "start_time": "2024-03-01T00:54:15.848932Z"
    }
   },
   "id": "fe8e27f1fd98db4e"
  },
  {
   "cell_type": "code",
   "execution_count": 102,
   "outputs": [
    {
     "name": "stdout",
     "output_type": "stream",
     "text": [
      "Index(['x_pos', 'y_pos', 'time', 'magnitude', 'theta', 'distance',\n",
      "       'angular_velocity', 'turns'],\n",
      "      dtype='object')\n"
     ]
    }
   ],
   "source": [
    "file_path = \"hw_dataset/control/C_0001.txt\"\n",
    "# X ; Y; Z; Pressure; GripAngle; Timestamp; Test ID\n",
    "test_data = pd.read_csv(file_path, sep=\";\", names=[\"x_pos\", \"y_pos\", \"z_pos\", \"pressure\", \"grip_angle\", \"time\", \"test_id\"])\n",
    "static_data = test_data.loc[test_data[\"test_id\"] == 0]\n",
    "dynamic_data = test_data.loc[test_data[\"test_id\"] == 1]\n",
    "\n",
    "static_data_aug = drop_cols(static_data)\n",
    "static_data_aug = augment_data(static_data_aug, spiral_radius=200)\n",
    "print(static_data_aug.columns)\n",
    "spiral_feature = create_feature(static_data_aug)"
   ],
   "metadata": {
    "collapsed": false,
    "ExecuteTime": {
     "end_time": "2024-03-01T00:54:15.882576Z",
     "start_time": "2024-03-01T00:54:15.852427Z"
    }
   },
   "id": "5f5b9a7a6244bf3"
  },
  {
   "cell_type": "markdown",
   "source": [
    "# Load spiral dataset"
   ],
   "metadata": {
    "collapsed": false
   },
   "id": "356f74cdaa86fbae"
  },
  {
   "cell_type": "code",
   "execution_count": 103,
   "outputs": [],
   "source": [
    "col_names = [\"x_pos\", \"y_pos\", \"z_pos\", \"pressure\", \"grip_angle\", \"time\", \"test_id\"]\n",
    "\n",
    "feature_df = pd.DataFrame(data=None, columns=([\"label\", \"set_id\"] + [f\"predictor_{idx}\" for idx in range(24)]))\n",
    "\n",
    "base_path = \"hw_dataset\"\n",
    "for dataset in (\"control\", \"parkinson\"):\n",
    "    file_names = os.listdir(f\"hw_dataset/{dataset}\")\n",
    "    file_paths = [os.path.join(base_path, dataset, file_name) for file_name in file_names if \".txt\" in file_name]\n",
    "    for idx, file_path in enumerate(file_paths):\n",
    "        test_data = pd.read_csv(file_path, sep=\";\", names=col_names)\n",
    "        static_data = test_data.loc[test_data[\"test_id\"] == 0]\n",
    "        static_data_aug = drop_cols(static_data)\n",
    "        static_data_aug = augment_data(static_data_aug, spiral_radius=200)\n",
    "        spiral_feature = create_feature(static_data_aug)\n",
    "        if dataset == \"parkinson\":\n",
    "            label = 1\n",
    "        else:\n",
    "            label = 0\n",
    "            \n",
    "        feature_df.loc[len(feature_df)] = np.append([label, idx], spiral_feature)\n",
    "        "
   ],
   "metadata": {
    "collapsed": false,
    "ExecuteTime": {
     "end_time": "2024-03-01T00:54:16.808352Z",
     "start_time": "2024-03-01T00:54:15.883796Z"
    }
   },
   "id": "5323b01f13c1ab42"
  },
  {
   "cell_type": "markdown",
   "source": [
    "# sort into training / validation datasets "
   ],
   "metadata": {
    "collapsed": false
   },
   "id": "f4a945fa5b7bd398"
  },
  {
   "cell_type": "code",
   "execution_count": 104,
   "outputs": [],
   "source": [
    "def partition_data(df, train_split):\n",
    "\n",
    "    control_count = sum(df[\"label\"] == 0)\n",
    "    nd_count = sum(df[\"label\"] == 1)\n",
    "    control_train_ids = np.random.permutation(range(control_count))[:int(control_count*train_split)]\n",
    "    nd_train_ids = np.random.permutation(range(nd_count))[:int(nd_count*train_split)]\n",
    "    \n",
    "    control_val_ids = np.array([idx for idx in range(control_count) if not np.isin(idx, control_train_ids)])\n",
    "    nd_val_ids = np.array([idx for idx in range(nd_count) if not np.isin(idx, nd_train_ids)])\n",
    "    \n",
    "    train_df = df.loc[np.logical_or(\n",
    "        np.logical_and((df[\"label\"] == 0), np.isin(df[\"set_id\"], control_train_ids)), \n",
    "        np.logical_and((df[\"label\"] == 1), np.isin(df[\"set_id\"], nd_train_ids)))]\n",
    "    \n",
    "    val_df = df.loc[np.logical_or(\n",
    "        np.logical_and((df[\"label\"] == 0), np.isin(df[\"set_id\"], control_val_ids)), \n",
    "        np.logical_and((df[\"label\"] == 1), np.isin(df[\"set_id\"], nd_val_ids)))]\n",
    "    \n",
    "    return train_df, val_df"
   ],
   "metadata": {
    "collapsed": false,
    "ExecuteTime": {
     "end_time": "2024-03-01T00:54:16.812766Z",
     "start_time": "2024-03-01T00:54:16.810983Z"
    }
   },
   "id": "2a206167b1338ae0"
  },
  {
   "cell_type": "code",
   "execution_count": 105,
   "outputs": [],
   "source": [
    "accuracies = []\n",
    "best_cost = 100\n",
    "best_model = None\n",
    "\n",
    "for fold in range(1000):\n",
    "    train_set, val_set = partition_data(feature_df, 0.8)\n",
    "    \n",
    "    train_data = train_set.drop([\"label\", \"set_id\"], axis=1)\n",
    "    val_data = val_set.drop([\"label\", \"set_id\"], axis=1)\n",
    "    model = LinearRegression().fit(train_data, train_set[\"label\"])\n",
    "    \n",
    "    predictions = model.predict(val_data)\n",
    "    classification = [val > 0.5 for val in predictions]\n",
    "    \n",
    "    cost = []\n",
    "    for idx, val in enumerate(predictions):\n",
    "        if val_set.label.values[idx] == 0:\n",
    "            cost.append(val)\n",
    "        else:\n",
    "            cost.append(-val)\n",
    "            \n",
    "    if sum(cost) < best_cost:\n",
    "        best_model = model\n",
    "        best_cost = sum(cost)\n",
    "        \n",
    "    accuracy = (np.mean(np.equal(classification, val_set.label)))\n",
    "    accuracies.append(accuracy)"
   ],
   "metadata": {
    "collapsed": false,
    "ExecuteTime": {
     "end_time": "2024-03-01T00:54:18.705147Z",
     "start_time": "2024-03-01T00:54:16.815599Z"
    }
   },
   "id": "7b69174fe3c3fc85"
  },
  {
   "cell_type": "code",
   "execution_count": 108,
   "outputs": [
    {
     "name": "stdout",
     "output_type": "stream",
     "text": [
      "Mean accuracy: 87.925%\n",
      "Best accuracy: 100.0%\n"
     ]
    }
   ],
   "source": [
    "print(f\"Mean accuracy: {np.mean(accuracies)*100}%\")\n",
    "\n",
    "train_set, val_set = partition_data(feature_df, 0.8)\n",
    "train_data = train_set.drop([\"label\", \"set_id\"], axis=1)\n",
    "val_data = val_set.drop([\"label\", \"set_id\"], axis=1)\n",
    "opt_predictions = best_model.predict(val_data)\n",
    "opt_classification = [val > 0.5 for val in opt_predictions]\n",
    "accuracy = (np.mean(np.equal(opt_classification, val_set.label)))\n",
    "print(f\"Best accuracy: {accuracy*100}%\")"
   ],
   "metadata": {
    "collapsed": false,
    "ExecuteTime": {
     "end_time": "2024-03-01T00:54:29.786547Z",
     "start_time": "2024-03-01T00:54:29.784077Z"
    }
   },
   "id": "821414270537f73d"
  },
  {
   "cell_type": "code",
   "execution_count": 109,
   "outputs": [
    {
     "data": {
      "text/plain": "['data/linear_regression_model.joblib']"
     },
     "execution_count": 109,
     "metadata": {},
     "output_type": "execute_result"
    }
   ],
   "source": [
    "os.chdir(\"/Users/benhoskings/Documents/Pycharm/Hero_Monitor\")\n",
    "joblib.dump(best_model, os.path.join(\"data/linear_regression_model.joblib\"))"
   ],
   "metadata": {
    "collapsed": false,
    "ExecuteTime": {
     "end_time": "2024-03-01T00:54:34.279020Z",
     "start_time": "2024-03-01T00:54:34.272906Z"
    }
   },
   "id": "784738de1f042621"
  },
  {
   "cell_type": "code",
   "execution_count": 107,
   "outputs": [],
   "source": [],
   "metadata": {
    "collapsed": false,
    "ExecuteTime": {
     "end_time": "2024-03-01T00:54:18.715504Z",
     "start_time": "2024-03-01T00:54:18.713960Z"
    }
   },
   "id": "238cd48f1938a550"
  }
 ],
 "metadata": {
  "kernelspec": {
   "display_name": "Python 3",
   "language": "python",
   "name": "python3"
  },
  "language_info": {
   "codemirror_mode": {
    "name": "ipython",
    "version": 2
   },
   "file_extension": ".py",
   "mimetype": "text/x-python",
   "name": "python",
   "nbconvert_exporter": "python",
   "pygments_lexer": "ipython2",
   "version": "2.7.6"
  }
 },
 "nbformat": 4,
 "nbformat_minor": 5
}
